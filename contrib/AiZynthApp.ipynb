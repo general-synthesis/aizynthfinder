{
 "cells": [
  {
   "cell_type": "code",
   "execution_count": 19,
   "id": "2aa4e61c",
   "metadata": {},
   "outputs": [],
   "source": [
    "from aizynthfinder.interfaces import AiZynthApp\n",
    "from aizynthfinder.interfaces.gui import ClusteringGui"
   ]
  },
  {
   "cell_type": "code",
   "execution_count": 28,
   "id": "72a82d2f",
   "metadata": {},
   "outputs": [],
   "source": [
    "moroidin = 'CC(C)CC1C(=O)NC(C(=O)NC2CC3=C(NC4=C3C=CC(=C4)C(C(C(=O)N1)NC(=O)C5CCC(=O)N5)C(C)C)N6C=C(CC(NC(=O)CNC(=O)C(NC2=O)CCC[NH+]=C(N)N)C(=O)[O-])N=C6)C(C)C'\n",
    "cocaine = 'CN1[C@H]2CC[C@@H]1[C@H]([C@H](C2)OC(=O)C3=CC=CC=C3)C(=O)OC'"
   ]
  },
  {
   "cell_type": "code",
   "execution_count": 21,
   "id": "1c81196c",
   "metadata": {},
   "outputs": [
    {
     "name": "stdout",
     "output_type": "stream",
     "text": [
      "Setting iteration limit to 2000\n",
      "Setting return first to True\n",
      "Setting time limit to 240\n",
      "Setting C to 1.4\n",
      "Setting cutoff cumulative to 0.999\n",
      "Setting cutoff number to 50\n",
      "Setting max transforms to 32\n",
      "Loading template-based expansion policy model from /home/fastflair/repos/aizynthfinder/data/uspto_model.hdf5 to uspto\n",
      "Loading templates from /home/fastflair/repos/aizynthfinder/data/uspto_templates.hdf5 to uspto\n",
      "Loading filter policy model from /home/fastflair/repos/aizynthfinder/data/uspto_filter_model.hdf5 to uspto\n",
      "Loading stock from /home/fastflair/repos/aizynthfinder/data/zinc_stock.hdf5 to zinc\n",
      "Selected as molecule cost: zero\n"
     ]
    },
    {
     "data": {
      "application/vnd.jupyter.widget-view+json": {
       "model_id": "c86122f60a454cd78e793e0f524e3315",
       "version_major": 2,
       "version_minor": 0
      },
      "text/plain": [
       "Text(value='', continuous_update=False, description='SMILES')"
      ]
     },
     "metadata": {},
     "output_type": "display_data"
    },
    {
     "data": {
      "application/vnd.jupyter.widget-view+json": {
       "model_id": "731f4bc0170e4479b3f837a01879d418",
       "version_major": 2,
       "version_minor": 0
      },
      "text/plain": [
       "Output(layout=Layout(border='1px solid silver', height='180px', width='50%'))"
      ]
     },
     "metadata": {},
     "output_type": "display_data"
    },
    {
     "data": {
      "application/vnd.jupyter.widget-view+json": {
       "model_id": "d4602fe0037243fc955a0c1ff7b72c13",
       "version_major": 2,
       "version_minor": 0
      },
      "text/plain": [
       "Tab(children=(HBox(children=(VBox(children=(Label(value='Stocks'), Checkbox(value=True, description='zinc', st…"
      ]
     },
     "metadata": {},
     "output_type": "display_data"
    },
    {
     "data": {
      "application/vnd.jupyter.widget-view+json": {
       "model_id": "0144205274f346f0b5cc972135a7f447",
       "version_major": 2,
       "version_minor": 0
      },
      "text/plain": [
       "HBox(children=(Button(description='Run Search', style=ButtonStyle()), Button(description='Extend Search', styl…"
      ]
     },
     "metadata": {},
     "output_type": "display_data"
    },
    {
     "data": {
      "application/vnd.jupyter.widget-view+json": {
       "model_id": "31acc080614d4c2cbaa7aee1641bad68",
       "version_major": 2,
       "version_minor": 0
      },
      "text/plain": [
       "Output(layout=Layout(border='1px solid silver', height='320px', overflow='auto', width='99%'))"
      ]
     },
     "metadata": {},
     "output_type": "display_data"
    },
    {
     "data": {
      "application/vnd.jupyter.widget-view+json": {
       "model_id": "c4a3f868468d4615bd03ebdc8c9b5cbf",
       "version_major": 2,
       "version_minor": 0
      },
      "text/plain": [
       "HBox(children=(Button(description='Show Reactions', style=ButtonStyle()), Dropdown(description='Routes: ', opt…"
      ]
     },
     "metadata": {},
     "output_type": "display_data"
    },
    {
     "data": {
      "application/vnd.jupyter.widget-view+json": {
       "model_id": "195d0614e36e4533991306e2a94b007f",
       "version_major": 2,
       "version_minor": 0
      },
      "text/plain": [
       "Output(layout=Layout(border='1px solid silver', width='99%'))"
      ]
     },
     "metadata": {},
     "output_type": "display_data"
    },
    {
     "name": "stderr",
     "output_type": "stream",
     "text": [
      "failed at node 21[1]\n",
      "dot: maze.c:313: chkSgraph: Assertion `np->cells[1]' failed.\n"
     ]
    }
   ],
   "source": [
    "app = AiZynthApp(\"./../data/config.yml\")"
   ]
  },
  {
   "cell_type": "code",
   "execution_count": 22,
   "id": "a57cc05c",
   "metadata": {},
   "outputs": [],
   "source": [
    "finder = app.finder\n",
    "stats = finder.extract_statistics()"
   ]
  },
  {
   "cell_type": "code",
   "execution_count": 23,
   "id": "8d1c1b94",
   "metadata": {},
   "outputs": [
    {
     "data": {
      "application/vnd.jupyter.widget-view+json": {
       "model_id": "d7dfe656c64e46ba9373570baddb77d0",
       "version_major": 2,
       "version_minor": 0
      },
      "text/plain": [
       "Output(layout=Layout(height='310px', overflow_y='auto', width='99%'))"
      ]
     },
     "metadata": {},
     "output_type": "display_data"
    },
    {
     "data": {
      "application/vnd.jupyter.widget-view+json": {
       "model_id": "15d49b440d3c4a16966735e244aed818",
       "version_major": 2,
       "version_minor": 0
      },
      "text/plain": [
       "HBox(children=(Label(value='Number of clusters to make'), BoundedIntText(value=1, continuous_update=True, layo…"
      ]
     },
     "metadata": {},
     "output_type": "display_data"
    },
    {
     "data": {
      "application/vnd.jupyter.widget-view+json": {
       "model_id": "3b415f1794f943408cb0370282ef434e",
       "version_major": 2,
       "version_minor": 0
      },
      "text/plain": [
       "Output()"
      ]
     },
     "metadata": {},
     "output_type": "display_data"
    },
    {
     "data": {
      "application/vnd.jupyter.widget-view+json": {
       "model_id": "46c2a284e8bd45b69678bfd2d31fddf1",
       "version_major": 2,
       "version_minor": 0
      },
      "text/plain": [
       "Tab()"
      ]
     },
     "metadata": {},
     "output_type": "display_data"
    },
    {
     "data": {
      "text/plain": [
       "<aizynthfinder.interfaces.gui.clustering.ClusteringGui at 0x7efd567af100>"
      ]
     },
     "execution_count": 23,
     "metadata": {},
     "output_type": "execute_result"
    }
   ],
   "source": [
    "ClusteringGui.from_app(app)"
   ]
  },
  {
   "cell_type": "code",
   "execution_count": 24,
   "id": "1e19e086",
   "metadata": {},
   "outputs": [
    {
     "name": "stdout",
     "output_type": "stream",
     "text": [
      "{'reaction_tree': <aizynthfinder.reactiontree.ReactionTree object at 0x7efd567a90d0>, 'node': <aizynthfinder.search.mcts.node.MctsNode object at 0x7efd63f43520>, 'score': 0.9976287063411217, 'all_score': {'state score': 0.9976287063411217, 'number of reactions': 1, 'number of pre-cursors': 2, 'number of pre-cursors in stock': 2, 'average template occurrence': 375.0}, 'image': <PIL.PngImagePlugin.PngImageFile image mode=RGB size=677x322 at 0x7EFD568F1610>, 'dict': {'type': 'mol', 'hide': False, 'smiles': 'COC(=O)[C@H]1[C@@H](OC(=O)c2ccccc2)C[C@@H]2CC[C@H]1N2C', 'is_chemical': True, 'in_stock': False, 'children': [{'type': 'reaction', 'hide': False, 'smiles': '[C:1](=[O:2])([cH3:3])[O:5][CH3:4]>>O[C:1](=[O:2])[cH3:3].[CH3:4][O:5]', 'is_reaction': True, 'metadata': {'template_hash': '462ff262701550e8361ae350b730fe337624136bbbc825e08432a1b4', 'classification': 'O-acylation to ester', 'library_occurence': 375, 'policy_probability': 0.17059999704360962, 'policy_probability_rank': 1, 'policy_name': 'uspto', 'template_code': 12870, 'template': '([C:4]-[O;H0;D2;+0:5]-[C;H0;D3;+0:1](=[O;D1;H0:2])-[c:3])>>(O-[C;H0;D3;+0:1](=[O;D1;H0:2])-[c:3]).([C:4]-[OH;D1;+0:5])'}, 'children': [{'type': 'mol', 'hide': False, 'smiles': 'O=C(O)c1ccccc1', 'is_chemical': True, 'in_stock': True}, {'type': 'mol', 'hide': False, 'smiles': 'COC(=O)[C@H]1[C@@H](O)C[C@@H]2CC[C@H]1N2C', 'is_chemical': True, 'in_stock': True}]}]}}\n",
      "{'reaction_tree': <aizynthfinder.reactiontree.ReactionTree object at 0x7efd568bf280>, 'node': <aizynthfinder.search.mcts.node.MctsNode object at 0x7efd63f43b80>, 'score': 0.9976287063411217, 'all_score': {'state score': 0.9976287063411217, 'number of reactions': 1, 'number of pre-cursors': 2, 'number of pre-cursors in stock': 2, 'average template occurrence': 472.0}, 'image': <PIL.PngImagePlugin.PngImageFile image mode=RGBA size=677x325 at 0x7EFD56D1B2B0>, 'dict': {'type': 'mol', 'hide': False, 'smiles': 'COC(=O)[C@H]1[C@@H](OC(=O)c2ccccc2)C[C@@H]2CC[C@H]1N2C', 'is_chemical': True, 'in_stock': False, 'children': [{'type': 'reaction', 'hide': False, 'smiles': '[C:1](=[O:2])([cH3:3])[O:5][CH3:4]>>Cl[C:1](=[O:2])[cH3:3].[CH3:4][O:5]', 'is_reaction': True, 'metadata': {'template_hash': '440bfc6bb6ec5495dae6447356961817a3e8d9cb60c3602990335e85', 'classification': 'O-acylation to ester', 'library_occurence': 472, 'policy_probability': 0.04659999907016754, 'policy_probability_rank': 3, 'policy_name': 'uspto', 'template_code': 12459, 'template': '([C:4]-[O;H0;D2;+0:5]-[C;H0;D3;+0:1](=[O;D1;H0:2])-[c:3])>>(Cl-[C;H0;D3;+0:1](=[O;D1;H0:2])-[c:3]).([C:4]-[OH;D1;+0:5])'}, 'children': [{'type': 'mol', 'hide': False, 'smiles': 'O=C(Cl)c1ccccc1', 'is_chemical': True, 'in_stock': True}, {'type': 'mol', 'hide': False, 'smiles': 'COC(=O)[C@H]1[C@@H](O)C[C@@H]2CC[C@H]1N2C', 'is_chemical': True, 'in_stock': True}]}]}}\n",
      "{'reaction_tree': <aizynthfinder.reactiontree.ReactionTree object at 0x7efd568bf730>, 'node': <aizynthfinder.search.mcts.node.MctsNode object at 0x7efd63bdabe0>, 'score': 0.9976287063411217, 'all_score': {'state score': 0.9976287063411217, 'number of reactions': 1, 'number of pre-cursors': 2, 'number of pre-cursors in stock': 2, 'average template occurrence': 17.0}, 'image': <PIL.PngImagePlugin.PngImageFile image mode=RGBA size=747x367 at 0x7EFD56C87A90>, 'dict': {'type': 'mol', 'hide': False, 'smiles': 'COC(=O)[C@H]1[C@@H](OC(=O)c2ccccc2)C[C@@H]2CC[C@H]1N2C', 'is_chemical': True, 'in_stock': False, 'children': [{'type': 'reaction', 'hide': False, 'smiles': '[C:1](=[O:2])([c:3]1[cH:4][cH:5][cH:6][cH:7][cH:8]1)[O:10][CH3:9]>>O=C(O[C:1](=[O:2])[c:3]1[cH:4][cH:5][cH:6][cH:7][cH:8]1)c1ccccc1.[CH3:9][O:10]', 'is_reaction': True, 'metadata': {'template_hash': '67749d258f89e2d0d57b003cb691281cf690ba52ce9ad9483056e5fd', 'classification': 'O-acylation to ester', 'library_occurence': 17, 'policy_probability': 0.0017999999690800905, 'policy_probability_rank': 40, 'policy_name': 'uspto', 'template_code': 19037, 'template': '([C:9]-[O;H0;D2;+0:10]-[C;H0;D3;+0:1](=[O;D1;H0:2])-[c:3]1:[c:4]:[c:5]:[c:6]:[c:7]:[c:8]:1)>>(O=C(-O-[C;H0;D3;+0:1](=[O;D1;H0:2])-[c:3]1:[c:4]:[c:5]:[c:6]:[c:7]:[c:8]:1)-c1:c:c:c:c:c:1).([C:9]-[OH;D1;+0:10])'}, 'children': [{'type': 'mol', 'hide': False, 'smiles': 'COC(=O)[C@H]1[C@@H](O)C[C@@H]2CC[C@H]1N2C', 'is_chemical': True, 'in_stock': True}, {'type': 'mol', 'hide': False, 'smiles': 'O=C(OC(=O)c1ccccc1)c1ccccc1', 'is_chemical': True, 'in_stock': True}]}]}}\n",
      "{'reaction_tree': <aizynthfinder.reactiontree.ReactionTree object at 0x7efd568bfdc0>, 'node': <aizynthfinder.search.mcts.node.MctsNode object at 0x7efd630f67c0>, 'score': 0.994039853898894, 'all_score': {'state score': 0.994039853898894, 'number of reactions': 3, 'number of pre-cursors': 3, 'number of pre-cursors in stock': 3, 'average template occurrence': 1862.0}, 'image': <PIL.PngImagePlugin.PngImageFile image mode=RGBA size=1079x482 at 0x7EFE1BFDF370>, 'dict': {'type': 'mol', 'hide': False, 'smiles': 'COC(=O)[C@H]1[C@@H](OC(=O)c2ccccc2)C[C@@H]2CC[C@H]1N2C', 'is_chemical': True, 'in_stock': False, 'children': [{'type': 'reaction', 'hide': False, 'smiles': '[C:1][O:4][CH:3]=[O:2]>>O[C:1].[O:2]=[CH:3][O:4]', 'is_reaction': True, 'metadata': {'template_hash': 'e189425e090fce77131c907ebf1468461240dd27d4457a40d701e43e', 'classification': 'O-acylation to ester', 'library_occurence': 4349, 'policy_probability': 0.23000000417232513, 'policy_probability_rank': 0, 'policy_name': 'uspto', 'template_code': 41244, 'template': '([CH3;D1;+0:1]-[O;H0;D2;+0:4]-[C:3]=[O;D1;H0:2])>>(O-[CH3;D1;+0:1]).([O;D1;H0:2]=[C:3]-[OH;D1;+0:4])'}, 'children': [{'type': 'mol', 'hide': False, 'smiles': 'CO', 'is_chemical': True, 'in_stock': False, 'children': [{'type': 'reaction', 'hide': False, 'smiles': '[CH3:1][O:2]>>c1ccc(C[O:2][CH3:1])cc1', 'is_reaction': True, 'metadata': {'template_hash': 'b09baddfd5988158c3a819435de5f508e6fb5e1babae0fd337ba07ac', 'classification': 'ROH deprotections', 'library_occurence': 862, 'policy_probability': 0.00139999995008111, 'policy_probability_rank': 29, 'policy_name': 'uspto', 'template_code': 32269, 'template': '([C:1]-[OH;D1;+0:2])>>([C:1]-[O;H0;D2;+0:2]-C-c1:c:c:c:c:c:1)'}, 'children': [{'type': 'mol', 'hide': False, 'smiles': 'COCc1ccccc1', 'is_chemical': True, 'in_stock': True}]}]}, {'type': 'mol', 'hide': False, 'smiles': 'CN1[C@H]2CC[C@@H]1[C@@H](C(=O)O)[C@@H](OC(=O)c1ccccc1)C2', 'is_chemical': True, 'in_stock': False, 'children': [{'type': 'reaction', 'hide': False, 'smiles': '[C:1](=[O:2])([cH3:3])[O:5][CH3:4]>>O[C:1](=[O:2])[cH3:3].[CH3:4][O:5]', 'is_reaction': True, 'metadata': {'template_hash': '462ff262701550e8361ae350b730fe337624136bbbc825e08432a1b4', 'classification': 'O-acylation to ester', 'library_occurence': 375, 'policy_probability': 0.06199999898672104, 'policy_probability_rank': 4, 'policy_name': 'uspto', 'template_code': 12870, 'template': '([C:4]-[O;H0;D2;+0:5]-[C;H0;D3;+0:1](=[O;D1;H0:2])-[c:3])>>(O-[C;H0;D3;+0:1](=[O;D1;H0:2])-[c:3]).([C:4]-[OH;D1;+0:5])'}, 'children': [{'type': 'mol', 'hide': False, 'smiles': 'O=C(O)c1ccccc1', 'is_chemical': True, 'in_stock': True}, {'type': 'mol', 'hide': False, 'smiles': 'CN1[C@H]2CC[C@@H]1[C@@H](C(=O)O)[C@@H](O)C2', 'is_chemical': True, 'in_stock': True}]}]}]}]}}\n",
      "{'reaction_tree': <aizynthfinder.reactiontree.ReactionTree object at 0x7efd5685d040>, 'node': <aizynthfinder.search.mcts.node.MctsNode object at 0x7efd62f18ee0>, 'score': 0.994039853898894, 'all_score': {'state score': 0.994039853898894, 'number of reactions': 3, 'number of pre-cursors': 3, 'number of pre-cursors in stock': 3, 'average template occurrence': 1894.3333333333333}, 'image': <PIL.PngImagePlugin.PngImageFile image mode=RGBA size=1079x483 at 0x7EFD56A55F40>, 'dict': {'type': 'mol', 'hide': False, 'smiles': 'COC(=O)[C@H]1[C@@H](OC(=O)c2ccccc2)C[C@@H]2CC[C@H]1N2C', 'is_chemical': True, 'in_stock': False, 'children': [{'type': 'reaction', 'hide': False, 'smiles': '[C:1][O:4][CH:3]=[O:2]>>O[C:1].[O:2]=[CH:3][O:4]', 'is_reaction': True, 'metadata': {'template_hash': 'e189425e090fce77131c907ebf1468461240dd27d4457a40d701e43e', 'classification': 'O-acylation to ester', 'library_occurence': 4349, 'policy_probability': 0.23000000417232513, 'policy_probability_rank': 0, 'policy_name': 'uspto', 'template_code': 41244, 'template': '([CH3;D1;+0:1]-[O;H0;D2;+0:4]-[C:3]=[O;D1;H0:2])>>(O-[CH3;D1;+0:1]).([O;D1;H0:2]=[C:3]-[OH;D1;+0:4])'}, 'children': [{'type': 'mol', 'hide': False, 'smiles': 'CO', 'is_chemical': True, 'in_stock': False, 'children': [{'type': 'reaction', 'hide': False, 'smiles': '[CH3:1][O:2]>>c1ccc(C[O:2][CH3:1])cc1', 'is_reaction': True, 'metadata': {'template_hash': 'b09baddfd5988158c3a819435de5f508e6fb5e1babae0fd337ba07ac', 'classification': 'ROH deprotections', 'library_occurence': 862, 'policy_probability': 0.00139999995008111, 'policy_probability_rank': 29, 'policy_name': 'uspto', 'template_code': 32269, 'template': '([C:1]-[OH;D1;+0:2])>>([C:1]-[O;H0;D2;+0:2]-C-c1:c:c:c:c:c:1)'}, 'children': [{'type': 'mol', 'hide': False, 'smiles': 'COCc1ccccc1', 'is_chemical': True, 'in_stock': True}]}]}, {'type': 'mol', 'hide': False, 'smiles': 'CN1[C@H]2CC[C@@H]1[C@@H](C(=O)O)[C@@H](OC(=O)c1ccccc1)C2', 'is_chemical': True, 'in_stock': False, 'children': [{'type': 'reaction', 'hide': False, 'smiles': '[C:1](=[O:2])([cH3:3])[O:5][CH3:4]>>Cl[C:1](=[O:2])[cH3:3].[CH3:4][O:5]', 'is_reaction': True, 'metadata': {'template_hash': '440bfc6bb6ec5495dae6447356961817a3e8d9cb60c3602990335e85', 'classification': 'O-acylation to ester', 'library_occurence': 472, 'policy_probability': 0.03920000046491623, 'policy_probability_rank': 5, 'policy_name': 'uspto', 'template_code': 12459, 'template': '([C:4]-[O;H0;D2;+0:5]-[C;H0;D3;+0:1](=[O;D1;H0:2])-[c:3])>>(Cl-[C;H0;D3;+0:1](=[O;D1;H0:2])-[c:3]).([C:4]-[OH;D1;+0:5])'}, 'children': [{'type': 'mol', 'hide': False, 'smiles': 'O=C(Cl)c1ccccc1', 'is_chemical': True, 'in_stock': True}, {'type': 'mol', 'hide': False, 'smiles': 'CN1[C@H]2CC[C@@H]1[C@@H](C(=O)O)[C@@H](O)C2', 'is_chemical': True, 'in_stock': True}]}]}]}]}}\n",
      "{'reaction_tree': <aizynthfinder.reactiontree.ReactionTree object at 0x7efd569fe3d0>, 'node': <aizynthfinder.search.mcts.node.MctsNode object at 0x7efd57071280>, 'score': 0.994039853898894, 'all_score': {'state score': 0.994039853898894, 'number of reactions': 3, 'number of pre-cursors': 3, 'number of pre-cursors in stock': 3, 'average template occurrence': 1742.6666666666667}, 'image': <PIL.PngImagePlugin.PngImageFile image mode=RGBA size=1558x517 at 0x7EFDA81780A0>, 'dict': {'type': 'mol', 'hide': False, 'smiles': 'COC(=O)[C@H]1[C@@H](OC(=O)c2ccccc2)C[C@@H]2CC[C@H]1N2C', 'is_chemical': True, 'in_stock': False, 'children': [{'type': 'reaction', 'hide': False, 'smiles': '[C:1][O:4][CH:3]=[O:2]>>O[C:1].[O:2]=[CH:3][O:4]', 'is_reaction': True, 'metadata': {'template_hash': 'e189425e090fce77131c907ebf1468461240dd27d4457a40d701e43e', 'classification': 'O-acylation to ester', 'library_occurence': 4349, 'policy_probability': 0.23000000417232513, 'policy_probability_rank': 0, 'policy_name': 'uspto', 'template_code': 41244, 'template': '([CH3;D1;+0:1]-[O;H0;D2;+0:4]-[C:3]=[O;D1;H0:2])>>(O-[CH3;D1;+0:1]).([O;D1;H0:2]=[C:3]-[OH;D1;+0:4])'}, 'children': [{'type': 'mol', 'hide': False, 'smiles': 'CO', 'is_chemical': True, 'in_stock': False, 'children': [{'type': 'reaction', 'hide': False, 'smiles': '[CH3:1][O:2]>>c1ccc(C[O:2][CH3:1])cc1', 'is_reaction': True, 'metadata': {'template_hash': 'b09baddfd5988158c3a819435de5f508e6fb5e1babae0fd337ba07ac', 'classification': 'ROH deprotections', 'library_occurence': 862, 'policy_probability': 0.00139999995008111, 'policy_probability_rank': 29, 'policy_name': 'uspto', 'template_code': 32269, 'template': '([C:1]-[OH;D1;+0:2])>>([C:1]-[O;H0;D2;+0:2]-C-c1:c:c:c:c:c:1)'}, 'children': [{'type': 'mol', 'hide': False, 'smiles': 'COCc1ccccc1', 'is_chemical': True, 'in_stock': True}]}]}, {'type': 'mol', 'hide': False, 'smiles': 'CN1[C@H]2CC[C@@H]1[C@@H](C(=O)O)[C@@H](OC(=O)c1ccccc1)C2', 'is_chemical': True, 'in_stock': False, 'children': [{'type': 'reaction', 'hide': False, 'smiles': '[C:1](=[O:2])([c:3]1[cH:4][cH:5][cH:6][cH:7][cH:8]1)[O:10][CH3:9]>>O=C(O[C:1](=[O:2])[c:3]1[cH:4][cH:5][cH:6][cH:7][cH:8]1)c1ccccc1.[CH3:9][O:10]', 'is_reaction': True, 'metadata': {'template_hash': '67749d258f89e2d0d57b003cb691281cf690ba52ce9ad9483056e5fd', 'classification': 'O-acylation to ester', 'library_occurence': 17, 'policy_probability': 0.003599999938160181, 'policy_probability_rank': 13, 'policy_name': 'uspto', 'template_code': 19037, 'template': '([C:9]-[O;H0;D2;+0:10]-[C;H0;D3;+0:1](=[O;D1;H0:2])-[c:3]1:[c:4]:[c:5]:[c:6]:[c:7]:[c:8]:1)>>(O=C(-O-[C;H0;D3;+0:1](=[O;D1;H0:2])-[c:3]1:[c:4]:[c:5]:[c:6]:[c:7]:[c:8]:1)-c1:c:c:c:c:c:1).([C:9]-[OH;D1;+0:10])'}, 'children': [{'type': 'mol', 'hide': False, 'smiles': 'CN1[C@H]2CC[C@@H]1[C@@H](C(=O)O)[C@@H](O)C2', 'is_chemical': True, 'in_stock': True}, {'type': 'mol', 'hide': False, 'smiles': 'O=C(OC(=O)c1ccccc1)c1ccccc1', 'is_chemical': True, 'in_stock': True}]}]}]}]}}\n",
      "{'reaction_tree': <aizynthfinder.reactiontree.ReactionTree object at 0x7efd568b7820>, 'node': <aizynthfinder.search.mcts.node.MctsNode object at 0x7efd630283a0>, 'score': 0.994039853898894, 'all_score': {'state score': 0.994039853898894, 'number of reactions': 2, 'number of pre-cursors': 2, 'number of pre-cursors in stock': 2, 'average template occurrence': 767.0}, 'image': <PIL.PngImagePlugin.PngImageFile image mode=RGBA size=1079x328 at 0x7EFD568BF1F0>, 'dict': {'type': 'mol', 'hide': False, 'smiles': 'COC(=O)[C@H]1[C@@H](OC(=O)c2ccccc2)C[C@@H]2CC[C@H]1N2C', 'is_chemical': True, 'in_stock': False, 'children': [{'type': 'reaction', 'hide': False, 'smiles': 'C[O:3][CH:2]=[O:1]>>[O:1]=[CH:2][O:3]', 'is_reaction': True, 'metadata': {'template_hash': '197f1216cfad4620fc46a9e2c8eeea97ecc19a4b9b854f5c39c8f85f', 'classification': 'O-substitution', 'library_occurence': 1159, 'policy_probability': 0.03139999881386757, 'policy_probability_rank': 4, 'policy_name': 'uspto', 'template_code': 4673, 'template': '([C;H3;D1;+0]-[O;H0;D2;+0:3]-[C:2]=[O;D1;H0:1])>>([O;D1;H0:1]=[C:2]-[OH;D1;+0:3])'}, 'children': [{'type': 'mol', 'hide': False, 'smiles': 'CN1[C@H]2CC[C@@H]1[C@@H](C(=O)O)[C@@H](OC(=O)c1ccccc1)C2', 'is_chemical': True, 'in_stock': False, 'children': [{'type': 'reaction', 'hide': False, 'smiles': '[C:1](=[O:2])([cH3:3])[O:5][CH3:4]>>O[C:1](=[O:2])[cH3:3].[CH3:4][O:5]', 'is_reaction': True, 'metadata': {'template_hash': '462ff262701550e8361ae350b730fe337624136bbbc825e08432a1b4', 'classification': 'O-acylation to ester', 'library_occurence': 375, 'policy_probability': 0.06199999898672104, 'policy_probability_rank': 4, 'policy_name': 'uspto', 'template_code': 12870, 'template': '([C:4]-[O;H0;D2;+0:5]-[C;H0;D3;+0:1](=[O;D1;H0:2])-[c:3])>>(O-[C;H0;D3;+0:1](=[O;D1;H0:2])-[c:3]).([C:4]-[OH;D1;+0:5])'}, 'children': [{'type': 'mol', 'hide': False, 'smiles': 'O=C(O)c1ccccc1', 'is_chemical': True, 'in_stock': True}, {'type': 'mol', 'hide': False, 'smiles': 'CN1[C@H]2CC[C@@H]1[C@@H](C(=O)O)[C@@H](O)C2', 'is_chemical': True, 'in_stock': True}]}]}]}]}}\n",
      "{'reaction_tree': <aizynthfinder.reactiontree.ReactionTree object at 0x7efd568b7460>, 'node': <aizynthfinder.search.mcts.node.MctsNode object at 0x7efd6351c400>, 'score': 0.994039853898894, 'all_score': {'state score': 0.994039853898894, 'number of reactions': 2, 'number of pre-cursors': 2, 'number of pre-cursors in stock': 2, 'average template occurrence': 815.5}, 'image': <PIL.PngImagePlugin.PngImageFile image mode=RGBA size=1079x331 at 0x7EFD56B68DC0>, 'dict': {'type': 'mol', 'hide': False, 'smiles': 'COC(=O)[C@H]1[C@@H](OC(=O)c2ccccc2)C[C@@H]2CC[C@H]1N2C', 'is_chemical': True, 'in_stock': False, 'children': [{'type': 'reaction', 'hide': False, 'smiles': 'C[O:3][CH:2]=[O:1]>>[O:1]=[CH:2][O:3]', 'is_reaction': True, 'metadata': {'template_hash': '197f1216cfad4620fc46a9e2c8eeea97ecc19a4b9b854f5c39c8f85f', 'classification': 'O-substitution', 'library_occurence': 1159, 'policy_probability': 0.03139999881386757, 'policy_probability_rank': 4, 'policy_name': 'uspto', 'template_code': 4673, 'template': '([C;H3;D1;+0]-[O;H0;D2;+0:3]-[C:2]=[O;D1;H0:1])>>([O;D1;H0:1]=[C:2]-[OH;D1;+0:3])'}, 'children': [{'type': 'mol', 'hide': False, 'smiles': 'CN1[C@H]2CC[C@@H]1[C@@H](C(=O)O)[C@@H](OC(=O)c1ccccc1)C2', 'is_chemical': True, 'in_stock': False, 'children': [{'type': 'reaction', 'hide': False, 'smiles': '[C:1](=[O:2])([cH3:3])[O:5][CH3:4]>>Cl[C:1](=[O:2])[cH3:3].[CH3:4][O:5]', 'is_reaction': True, 'metadata': {'template_hash': '440bfc6bb6ec5495dae6447356961817a3e8d9cb60c3602990335e85', 'classification': 'O-acylation to ester', 'library_occurence': 472, 'policy_probability': 0.03920000046491623, 'policy_probability_rank': 5, 'policy_name': 'uspto', 'template_code': 12459, 'template': '([C:4]-[O;H0;D2;+0:5]-[C;H0;D3;+0:1](=[O;D1;H0:2])-[c:3])>>(Cl-[C;H0;D3;+0:1](=[O;D1;H0:2])-[c:3]).([C:4]-[OH;D1;+0:5])'}, 'children': [{'type': 'mol', 'hide': False, 'smiles': 'O=C(Cl)c1ccccc1', 'is_chemical': True, 'in_stock': True}, {'type': 'mol', 'hide': False, 'smiles': 'CN1[C@H]2CC[C@@H]1[C@@H](C(=O)O)[C@@H](O)C2', 'is_chemical': True, 'in_stock': True}]}]}]}]}}\n",
      "{'reaction_tree': <aizynthfinder.reactiontree.ReactionTree object at 0x7efd56689f10>, 'node': <aizynthfinder.search.mcts.node.MctsNode object at 0x7efd578411c0>, 'score': 0.994039853898894, 'all_score': {'state score': 0.994039853898894, 'number of reactions': 2, 'number of pre-cursors': 2, 'number of pre-cursors in stock': 2, 'average template occurrence': 588.0}, 'image': <PIL.PngImagePlugin.PngImageFile image mode=RGB size=1168x373 at 0x7EFD56C87310>, 'dict': {'type': 'mol', 'hide': False, 'smiles': 'COC(=O)[C@H]1[C@@H](OC(=O)c2ccccc2)C[C@@H]2CC[C@H]1N2C', 'is_chemical': True, 'in_stock': False, 'children': [{'type': 'reaction', 'hide': False, 'smiles': 'C[O:3][CH:2]=[O:1]>>[O:1]=[CH:2][O:3]', 'is_reaction': True, 'metadata': {'template_hash': '197f1216cfad4620fc46a9e2c8eeea97ecc19a4b9b854f5c39c8f85f', 'classification': 'O-substitution', 'library_occurence': 1159, 'policy_probability': 0.03139999881386757, 'policy_probability_rank': 4, 'policy_name': 'uspto', 'template_code': 4673, 'template': '([C;H3;D1;+0]-[O;H0;D2;+0:3]-[C:2]=[O;D1;H0:1])>>([O;D1;H0:1]=[C:2]-[OH;D1;+0:3])'}, 'children': [{'type': 'mol', 'hide': False, 'smiles': 'CN1[C@H]2CC[C@@H]1[C@@H](C(=O)O)[C@@H](OC(=O)c1ccccc1)C2', 'is_chemical': True, 'in_stock': False, 'children': [{'type': 'reaction', 'hide': False, 'smiles': '[C:1](=[O:2])([c:3]1[cH:4][cH:5][cH:6][cH:7][cH:8]1)[O:10][CH3:9]>>O=C(O[C:1](=[O:2])[c:3]1[cH:4][cH:5][cH:6][cH:7][cH:8]1)c1ccccc1.[CH3:9][O:10]', 'is_reaction': True, 'metadata': {'template_hash': '67749d258f89e2d0d57b003cb691281cf690ba52ce9ad9483056e5fd', 'classification': 'O-acylation to ester', 'library_occurence': 17, 'policy_probability': 0.003599999938160181, 'policy_probability_rank': 13, 'policy_name': 'uspto', 'template_code': 19037, 'template': '([C:9]-[O;H0;D2;+0:10]-[C;H0;D3;+0:1](=[O;D1;H0:2])-[c:3]1:[c:4]:[c:5]:[c:6]:[c:7]:[c:8]:1)>>(O=C(-O-[C;H0;D3;+0:1](=[O;D1;H0:2])-[c:3]1:[c:4]:[c:5]:[c:6]:[c:7]:[c:8]:1)-c1:c:c:c:c:c:1).([C:9]-[OH;D1;+0:10])'}, 'children': [{'type': 'mol', 'hide': False, 'smiles': 'CN1[C@H]2CC[C@@H]1[C@@H](C(=O)O)[C@@H](O)C2', 'is_chemical': True, 'in_stock': True}, {'type': 'mol', 'hide': False, 'smiles': 'O=C(OC(=O)c1ccccc1)c1ccccc1', 'is_chemical': True, 'in_stock': True}]}]}]}]}}\n",
      "{'reaction_tree': <aizynthfinder.reactiontree.ReactionTree object at 0x7efd56689bb0>, 'node': <aizynthfinder.search.mcts.node.MctsNode object at 0x7efd63c12370>, 'score': 0.994039853898894, 'all_score': {'state score': 0.994039853898894, 'number of reactions': 2, 'number of pre-cursors': 2, 'number of pre-cursors in stock': 2, 'average template occurrence': 286.0}, 'image': <PIL.PngImagePlugin.PngImageFile image mode=RGB size=1033x296 at 0x7EFD56B68CD0>, 'dict': {'type': 'mol', 'hide': False, 'smiles': 'COC(=O)[C@H]1[C@@H](OC(=O)c2ccccc2)C[C@@H]2CC[C@H]1N2C', 'is_chemical': True, 'in_stock': False, 'children': [{'type': 'reaction', 'hide': False, 'smiles': '[c:1]([cH2:2])[cH2:3]>>Cl[c:1]([cH2:2])[cH2:3]', 'is_reaction': True, 'metadata': {'template_hash': '9860ae00c69ec5f62a57f92b2877531856501cab10bf169231c3b9a0', 'classification': 'Other functional group interconversion', 'library_occurence': 197, 'policy_probability': 0.001500000013038516, 'policy_probability_rank': 46, 'policy_name': 'uspto', 'template_code': 27892, 'template': '([c:2]:[cH;D2;+0:1]:[c:3])>>(Cl-[c;H0;D3;+0:1](:[c:2]):[c:3])'}, 'children': [{'type': 'mol', 'hide': False, 'smiles': 'COC(=O)[C@H]1[C@@H](OC(=O)c2ccc(Cl)cc2)C[C@@H]2CC[C@H]1N2C', 'is_chemical': True, 'in_stock': False, 'children': [{'type': 'reaction', 'hide': False, 'smiles': '[C:1](=[O:2])([cH3:3])[O:5][CH3:4]>>O[C:1](=[O:2])[cH3:3].[CH3:4][O:5]', 'is_reaction': True, 'metadata': {'template_hash': '462ff262701550e8361ae350b730fe337624136bbbc825e08432a1b4', 'classification': 'O-acylation to ester', 'library_occurence': 375, 'policy_probability': 0.4332999885082245, 'policy_probability_rank': 0, 'policy_name': 'uspto', 'template_code': 12870, 'template': '([C:4]-[O;H0;D2;+0:5]-[C;H0;D3;+0:1](=[O;D1;H0:2])-[c:3])>>(O-[C;H0;D3;+0:1](=[O;D1;H0:2])-[c:3]).([C:4]-[OH;D1;+0:5])'}, 'children': [{'type': 'mol', 'hide': False, 'smiles': 'O=C(O)c1ccc(Cl)cc1', 'is_chemical': True, 'in_stock': True}, {'type': 'mol', 'hide': False, 'smiles': 'COC(=O)[C@H]1[C@@H](O)C[C@@H]2CC[C@H]1N2C', 'is_chemical': True, 'in_stock': True}]}]}]}]}}\n",
      "{'reaction_tree': <aizynthfinder.reactiontree.ReactionTree object at 0x7efd566890a0>, 'node': <aizynthfinder.search.mcts.node.MctsNode object at 0x7efd6385e340>, 'score': 0.994039853898894, 'all_score': {'state score': 0.994039853898894, 'number of reactions': 2, 'number of pre-cursors': 2, 'number of pre-cursors in stock': 2, 'average template occurrence': 334.5}, 'image': <PIL.PngImagePlugin.PngImageFile image mode=RGB size=1033x296 at 0x7EFD569C9E80>, 'dict': {'type': 'mol', 'hide': False, 'smiles': 'COC(=O)[C@H]1[C@@H](OC(=O)c2ccccc2)C[C@@H]2CC[C@H]1N2C', 'is_chemical': True, 'in_stock': False, 'children': [{'type': 'reaction', 'hide': False, 'smiles': '[c:1]([cH2:2])[cH2:3]>>Cl[c:1]([cH2:2])[cH2:3]', 'is_reaction': True, 'metadata': {'template_hash': '9860ae00c69ec5f62a57f92b2877531856501cab10bf169231c3b9a0', 'classification': 'Other functional group interconversion', 'library_occurence': 197, 'policy_probability': 0.001500000013038516, 'policy_probability_rank': 46, 'policy_name': 'uspto', 'template_code': 27892, 'template': '([c:2]:[cH;D2;+0:1]:[c:3])>>(Cl-[c;H0;D3;+0:1](:[c:2]):[c:3])'}, 'children': [{'type': 'mol', 'hide': False, 'smiles': 'COC(=O)[C@H]1[C@@H](OC(=O)c2ccc(Cl)cc2)C[C@@H]2CC[C@H]1N2C', 'is_chemical': True, 'in_stock': False, 'children': [{'type': 'reaction', 'hide': False, 'smiles': '[C:1](=[O:2])([cH3:3])[O:5][CH3:4]>>Cl[C:1](=[O:2])[cH3:3].[CH3:4][O:5]', 'is_reaction': True, 'metadata': {'template_hash': '440bfc6bb6ec5495dae6447356961817a3e8d9cb60c3602990335e85', 'classification': 'O-acylation to ester', 'library_occurence': 472, 'policy_probability': 0.02930000051856041, 'policy_probability_rank': 3, 'policy_name': 'uspto', 'template_code': 12459, 'template': '([C:4]-[O;H0;D2;+0:5]-[C;H0;D3;+0:1](=[O;D1;H0:2])-[c:3])>>(Cl-[C;H0;D3;+0:1](=[O;D1;H0:2])-[c:3]).([C:4]-[OH;D1;+0:5])'}, 'children': [{'type': 'mol', 'hide': False, 'smiles': 'O=C(Cl)c1ccc(Cl)cc1', 'is_chemical': True, 'in_stock': True}, {'type': 'mol', 'hide': False, 'smiles': 'COC(=O)[C@H]1[C@@H](O)C[C@@H]2CC[C@H]1N2C', 'is_chemical': True, 'in_stock': True}]}]}]}]}}\n",
      "{'reaction_tree': <aizynthfinder.reactiontree.ReactionTree object at 0x7efd56689c10>, 'node': <aizynthfinder.search.mcts.node.MctsNode object at 0x7efda7cfba00>, 'score': 0.994039853898894, 'all_score': {'state score': 0.994039853898894, 'number of reactions': 2, 'number of pre-cursors': 2, 'number of pre-cursors in stock': 2, 'average template occurrence': 286.0}, 'image': <PIL.PngImagePlugin.PngImageFile image mode=RGB size=1101x360 at 0x7EFD56E33670>, 'dict': {'type': 'mol', 'hide': False, 'smiles': 'COC(=O)[C@H]1[C@@H](OC(=O)c2ccccc2)C[C@@H]2CC[C@H]1N2C', 'is_chemical': True, 'in_stock': False, 'children': [{'type': 'reaction', 'hide': False, 'smiles': '[c:1]([cH2:2])[cH2:3]>>Cl[c:1]([cH2:2])[cH2:3]', 'is_reaction': True, 'metadata': {'template_hash': '9860ae00c69ec5f62a57f92b2877531856501cab10bf169231c3b9a0', 'classification': 'Other functional group interconversion', 'library_occurence': 197, 'policy_probability': 0.001500000013038516, 'policy_probability_rank': 46, 'policy_name': 'uspto', 'template_code': 27892, 'template': '([c:2]:[cH;D2;+0:1]:[c:3])>>(Cl-[c;H0;D3;+0:1](:[c:2]):[c:3])'}, 'children': [{'type': 'mol', 'hide': False, 'smiles': 'COC(=O)[C@H]1[C@@H](OC(=O)c2ccccc2Cl)C[C@@H]2CC[C@H]1N2C', 'is_chemical': True, 'in_stock': False, 'children': [{'type': 'reaction', 'hide': False, 'smiles': '[C:1](=[O:2])([cH3:3])[O:5][CH3:4]>>O[C:1](=[O:2])[cH3:3].[CH3:4][O:5]', 'is_reaction': True, 'metadata': {'template_hash': '462ff262701550e8361ae350b730fe337624136bbbc825e08432a1b4', 'classification': 'O-acylation to ester', 'library_occurence': 375, 'policy_probability': 0.08789999783039093, 'policy_probability_rank': 2, 'policy_name': 'uspto', 'template_code': 12870, 'template': '([C:4]-[O;H0;D2;+0:5]-[C;H0;D3;+0:1](=[O;D1;H0:2])-[c:3])>>(O-[C;H0;D3;+0:1](=[O;D1;H0:2])-[c:3]).([C:4]-[OH;D1;+0:5])'}, 'children': [{'type': 'mol', 'hide': False, 'smiles': 'O=C(O)c1ccccc1Cl', 'is_chemical': True, 'in_stock': True}, {'type': 'mol', 'hide': False, 'smiles': 'COC(=O)[C@H]1[C@@H](O)C[C@@H]2CC[C@H]1N2C', 'is_chemical': True, 'in_stock': True}]}]}]}]}}\n",
      "{'reaction_tree': <aizynthfinder.reactiontree.ReactionTree object at 0x7efd56689250>, 'node': <aizynthfinder.search.mcts.node.MctsNode object at 0x7efd62d322e0>, 'score': 0.994039853898894, 'all_score': {'state score': 0.994039853898894, 'number of reactions': 2, 'number of pre-cursors': 2, 'number of pre-cursors in stock': 2, 'average template occurrence': 334.5}, 'image': <PIL.PngImagePlugin.PngImageFile image mode=RGB size=1101x360 at 0x7EFD56D69D60>, 'dict': {'type': 'mol', 'hide': False, 'smiles': 'COC(=O)[C@H]1[C@@H](OC(=O)c2ccccc2)C[C@@H]2CC[C@H]1N2C', 'is_chemical': True, 'in_stock': False, 'children': [{'type': 'reaction', 'hide': False, 'smiles': '[c:1]([cH2:2])[cH2:3]>>Cl[c:1]([cH2:2])[cH2:3]', 'is_reaction': True, 'metadata': {'template_hash': '9860ae00c69ec5f62a57f92b2877531856501cab10bf169231c3b9a0', 'classification': 'Other functional group interconversion', 'library_occurence': 197, 'policy_probability': 0.001500000013038516, 'policy_probability_rank': 46, 'policy_name': 'uspto', 'template_code': 27892, 'template': '([c:2]:[cH;D2;+0:1]:[c:3])>>(Cl-[c;H0;D3;+0:1](:[c:2]):[c:3])'}, 'children': [{'type': 'mol', 'hide': False, 'smiles': 'COC(=O)[C@H]1[C@@H](OC(=O)c2ccccc2Cl)C[C@@H]2CC[C@H]1N2C', 'is_chemical': True, 'in_stock': False, 'children': [{'type': 'reaction', 'hide': False, 'smiles': '[C:1](=[O:2])([cH3:3])[O:5][CH3:4]>>Cl[C:1](=[O:2])[cH3:3].[CH3:4][O:5]', 'is_reaction': True, 'metadata': {'template_hash': '440bfc6bb6ec5495dae6447356961817a3e8d9cb60c3602990335e85', 'classification': 'O-acylation to ester', 'library_occurence': 472, 'policy_probability': 0.007199999876320362, 'policy_probability_rank': 12, 'policy_name': 'uspto', 'template_code': 12459, 'template': '([C:4]-[O;H0;D2;+0:5]-[C;H0;D3;+0:1](=[O;D1;H0:2])-[c:3])>>(Cl-[C;H0;D3;+0:1](=[O;D1;H0:2])-[c:3]).([C:4]-[OH;D1;+0:5])'}, 'children': [{'type': 'mol', 'hide': False, 'smiles': 'O=C(Cl)c1ccccc1Cl', 'is_chemical': True, 'in_stock': True}, {'type': 'mol', 'hide': False, 'smiles': 'COC(=O)[C@H]1[C@@H](O)C[C@@H]2CC[C@H]1N2C', 'is_chemical': True, 'in_stock': True}]}]}]}]}}\n",
      "{'reaction_tree': <aizynthfinder.reactiontree.ReactionTree object at 0x7efd567506d0>, 'node': <aizynthfinder.search.mcts.node.MctsNode object at 0x7efda87c02b0>, 'score': 0.994039853898894, 'all_score': {'state score': 0.994039853898894, 'number of reactions': 2, 'number of pre-cursors': 2, 'number of pre-cursors in stock': 2, 'average template occurrence': 286.0}, 'image': <PIL.PngImagePlugin.PngImageFile image mode=RGBA size=1099x344 at 0x7EFD567AF070>, 'dict': {'type': 'mol', 'hide': False, 'smiles': 'COC(=O)[C@H]1[C@@H](OC(=O)c2ccccc2)C[C@@H]2CC[C@H]1N2C', 'is_chemical': True, 'in_stock': False, 'children': [{'type': 'reaction', 'hide': False, 'smiles': '[c:1]([cH2:2])[cH2:3]>>Cl[c:1]([cH2:2])[cH2:3]', 'is_reaction': True, 'metadata': {'template_hash': '9860ae00c69ec5f62a57f92b2877531856501cab10bf169231c3b9a0', 'classification': 'Other functional group interconversion', 'library_occurence': 197, 'policy_probability': 0.001500000013038516, 'policy_probability_rank': 46, 'policy_name': 'uspto', 'template_code': 27892, 'template': '([c:2]:[cH;D2;+0:1]:[c:3])>>(Cl-[c;H0;D3;+0:1](:[c:2]):[c:3])'}, 'children': [{'type': 'mol', 'hide': False, 'smiles': 'COC(=O)[C@H]1[C@@H](OC(=O)c2cccc(Cl)c2)C[C@@H]2CC[C@H]1N2C', 'is_chemical': True, 'in_stock': False, 'children': [{'type': 'reaction', 'hide': False, 'smiles': '[C:1](=[O:2])([cH3:3])[O:5][CH3:4]>>O[C:1](=[O:2])[cH3:3].[CH3:4][O:5]', 'is_reaction': True, 'metadata': {'template_hash': '462ff262701550e8361ae350b730fe337624136bbbc825e08432a1b4', 'classification': 'O-acylation to ester', 'library_occurence': 375, 'policy_probability': 0.2513999938964844, 'policy_probability_rank': 1, 'policy_name': 'uspto', 'template_code': 12870, 'template': '([C:4]-[O;H0;D2;+0:5]-[C;H0;D3;+0:1](=[O;D1;H0:2])-[c:3])>>(O-[C;H0;D3;+0:1](=[O;D1;H0:2])-[c:3]).([C:4]-[OH;D1;+0:5])'}, 'children': [{'type': 'mol', 'hide': False, 'smiles': 'O=C(O)c1cccc(Cl)c1', 'is_chemical': True, 'in_stock': True}, {'type': 'mol', 'hide': False, 'smiles': 'COC(=O)[C@H]1[C@@H](O)C[C@@H]2CC[C@H]1N2C', 'is_chemical': True, 'in_stock': True}]}]}]}]}}\n",
      "{'reaction_tree': <aizynthfinder.reactiontree.ReactionTree object at 0x7efd56750e20>, 'node': <aizynthfinder.search.mcts.node.MctsNode object at 0x7efd632408b0>, 'score': 0.994039853898894, 'all_score': {'state score': 0.994039853898894, 'number of reactions': 2, 'number of pre-cursors': 2, 'number of pre-cursors in stock': 2, 'average template occurrence': 334.5}, 'image': <PIL.PngImagePlugin.PngImageFile image mode=RGBA size=1099x344 at 0x7EFD9FEEAB80>, 'dict': {'type': 'mol', 'hide': False, 'smiles': 'COC(=O)[C@H]1[C@@H](OC(=O)c2ccccc2)C[C@@H]2CC[C@H]1N2C', 'is_chemical': True, 'in_stock': False, 'children': [{'type': 'reaction', 'hide': False, 'smiles': '[c:1]([cH2:2])[cH2:3]>>Cl[c:1]([cH2:2])[cH2:3]', 'is_reaction': True, 'metadata': {'template_hash': '9860ae00c69ec5f62a57f92b2877531856501cab10bf169231c3b9a0', 'classification': 'Other functional group interconversion', 'library_occurence': 197, 'policy_probability': 0.001500000013038516, 'policy_probability_rank': 46, 'policy_name': 'uspto', 'template_code': 27892, 'template': '([c:2]:[cH;D2;+0:1]:[c:3])>>(Cl-[c;H0;D3;+0:1](:[c:2]):[c:3])'}, 'children': [{'type': 'mol', 'hide': False, 'smiles': 'COC(=O)[C@H]1[C@@H](OC(=O)c2cccc(Cl)c2)C[C@@H]2CC[C@H]1N2C', 'is_chemical': True, 'in_stock': False, 'children': [{'type': 'reaction', 'hide': False, 'smiles': '[C:1](=[O:2])([cH3:3])[O:5][CH3:4]>>Cl[C:1](=[O:2])[cH3:3].[CH3:4][O:5]', 'is_reaction': True, 'metadata': {'template_hash': '440bfc6bb6ec5495dae6447356961817a3e8d9cb60c3602990335e85', 'classification': 'O-acylation to ester', 'library_occurence': 472, 'policy_probability': 0.025599999353289604, 'policy_probability_rank': 5, 'policy_name': 'uspto', 'template_code': 12459, 'template': '([C:4]-[O;H0;D2;+0:5]-[C;H0;D3;+0:1](=[O;D1;H0:2])-[c:3])>>(Cl-[C;H0;D3;+0:1](=[O;D1;H0:2])-[c:3]).([C:4]-[OH;D1;+0:5])'}, 'children': [{'type': 'mol', 'hide': False, 'smiles': 'O=C(Cl)c1cccc(Cl)c1', 'is_chemical': True, 'in_stock': True}, {'type': 'mol', 'hide': False, 'smiles': 'COC(=O)[C@H]1[C@@H](O)C[C@@H]2CC[C@H]1N2C', 'is_chemical': True, 'in_stock': True}]}]}]}]}}\n"
     ]
    }
   ],
   "source": [
    "for route in finder.routes:\n",
    "    print(route)"
   ]
  },
  {
   "cell_type": "code",
   "execution_count": 27,
   "id": "3a87b90a",
   "metadata": {},
   "outputs": [
    {
     "name": "stdout",
     "output_type": "stream",
     "text": [
      "15\n"
     ]
    }
   ],
   "source": [
    "print(len(finder.routes))"
   ]
  },
  {
   "cell_type": "code",
   "execution_count": 30,
   "id": "cc38227b",
   "metadata": {},
   "outputs": [
    {
     "name": "stdout",
     "output_type": "stream",
     "text": [
      "{'reaction_tree': <aizynthfinder.reactiontree.ReactionTree object at 0x7efd567a90d0>, 'node': <aizynthfinder.search.mcts.node.MctsNode object at 0x7efd63f43520>, 'score': 0.9976287063411217, 'all_score': {'state score': 0.9976287063411217, 'number of reactions': 1, 'number of pre-cursors': 2, 'number of pre-cursors in stock': 2, 'average template occurrence': 375.0}, 'image': <PIL.PngImagePlugin.PngImageFile image mode=RGB size=677x322 at 0x7EFD568F1610>, 'dict': {'type': 'mol', 'hide': False, 'smiles': 'COC(=O)[C@H]1[C@@H](OC(=O)c2ccccc2)C[C@@H]2CC[C@H]1N2C', 'is_chemical': True, 'in_stock': False, 'children': [{'type': 'reaction', 'hide': False, 'smiles': '[C:1](=[O:2])([cH3:3])[O:5][CH3:4]>>O[C:1](=[O:2])[cH3:3].[CH3:4][O:5]', 'is_reaction': True, 'metadata': {'template_hash': '462ff262701550e8361ae350b730fe337624136bbbc825e08432a1b4', 'classification': 'O-acylation to ester', 'library_occurence': 375, 'policy_probability': 0.17059999704360962, 'policy_probability_rank': 1, 'policy_name': 'uspto', 'template_code': 12870, 'template': '([C:4]-[O;H0;D2;+0:5]-[C;H0;D3;+0:1](=[O;D1;H0:2])-[c:3])>>(O-[C;H0;D3;+0:1](=[O;D1;H0:2])-[c:3]).([C:4]-[OH;D1;+0:5])'}, 'children': [{'type': 'mol', 'hide': False, 'smiles': 'O=C(O)c1ccccc1', 'is_chemical': True, 'in_stock': True}, {'type': 'mol', 'hide': False, 'smiles': 'COC(=O)[C@H]1[C@@H](O)C[C@@H]2CC[C@H]1N2C', 'is_chemical': True, 'in_stock': True}]}]}}\n"
     ]
    }
   ],
   "source": [
    "node = finder.routes[0]\n",
    "print(node)"
   ]
  },
  {
   "cell_type": "code",
   "execution_count": 31,
   "id": "ba9ebbd4",
   "metadata": {},
   "outputs": [],
   "source": [
    "test = node['dict']"
   ]
  },
  {
   "cell_type": "code",
   "execution_count": 32,
   "id": "c2f1e09f",
   "metadata": {},
   "outputs": [
    {
     "data": {
      "text/plain": [
       "{'type': 'mol',\n",
       " 'hide': False,\n",
       " 'smiles': 'COC(=O)[C@H]1[C@@H](OC(=O)c2ccccc2)C[C@@H]2CC[C@H]1N2C',\n",
       " 'is_chemical': True,\n",
       " 'in_stock': False,\n",
       " 'children': [{'type': 'reaction',\n",
       "   'hide': False,\n",
       "   'smiles': '[C:1](=[O:2])([cH3:3])[O:5][CH3:4]>>O[C:1](=[O:2])[cH3:3].[CH3:4][O:5]',\n",
       "   'is_reaction': True,\n",
       "   'metadata': {'template_hash': '462ff262701550e8361ae350b730fe337624136bbbc825e08432a1b4',\n",
       "    'classification': 'O-acylation to ester',\n",
       "    'library_occurence': 375,\n",
       "    'policy_probability': 0.17059999704360962,\n",
       "    'policy_probability_rank': 1,\n",
       "    'policy_name': 'uspto',\n",
       "    'template_code': 12870,\n",
       "    'template': '([C:4]-[O;H0;D2;+0:5]-[C;H0;D3;+0:1](=[O;D1;H0:2])-[c:3])>>(O-[C;H0;D3;+0:1](=[O;D1;H0:2])-[c:3]).([C:4]-[OH;D1;+0:5])'},\n",
       "   'children': [{'type': 'mol',\n",
       "     'hide': False,\n",
       "     'smiles': 'O=C(O)c1ccccc1',\n",
       "     'is_chemical': True,\n",
       "     'in_stock': True},\n",
       "    {'type': 'mol',\n",
       "     'hide': False,\n",
       "     'smiles': 'COC(=O)[C@H]1[C@@H](O)C[C@@H]2CC[C@H]1N2C',\n",
       "     'is_chemical': True,\n",
       "     'in_stock': True}]}]}"
      ]
     },
     "execution_count": 32,
     "metadata": {},
     "output_type": "execute_result"
    }
   ],
   "source": [
    "test"
   ]
  },
  {
   "cell_type": "code",
   "execution_count": null,
   "id": "64c34c8b",
   "metadata": {},
   "outputs": [],
   "source": []
  }
 ],
 "metadata": {
  "kernelspec": {
   "display_name": "Python 3 (ipykernel)",
   "language": "python",
   "name": "python3"
  },
  "language_info": {
   "codemirror_mode": {
    "name": "ipython",
    "version": 3
   },
   "file_extension": ".py",
   "mimetype": "text/x-python",
   "name": "python",
   "nbconvert_exporter": "python",
   "pygments_lexer": "ipython3",
   "version": "3.9.11"
  }
 },
 "nbformat": 4,
 "nbformat_minor": 5
}
