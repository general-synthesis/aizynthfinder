{
 "cells": [
  {
   "cell_type": "code",
   "execution_count": 19,
   "id": "efb47237",
   "metadata": {},
   "outputs": [],
   "source": [
    "from aizynthfinder.interfaces import AiZynthApp\n",
    "from aizynthfinder.interfaces.gui import ClusteringGui"
   ]
  },
  {
   "cell_type": "code",
   "execution_count": 28,
   "id": "bf433c84",
   "metadata": {},
   "outputs": [],
   "source": [
    "moroidin = 'CC(C)CC1C(=O)NC(C(=O)NC2CC3=C(NC4=C3C=CC(=C4)C(C(C(=O)N1)NC(=O)C5CCC(=O)N5)C(C)C)N6C=C(CC(NC(=O)CNC(=O)C(NC2=O)CCC[NH+]=C(N)N)C(=O)[O-])N=C6)C(C)C'\n",
    "cocaine = 'CN1[C@H]2CC[C@@H]1[C@H]([C@H](C2)OC(=O)C3=CC=CC=C3)C(=O)OC'"
   ]
  },
  {
   "cell_type": "code",
   "execution_count": 34,
   "id": "140442fd",
   "metadata": {},
   "outputs": [],
   "source": [
    "def get_node_dict(app, index):\n",
    "    finder = app.finder\n",
    "    node = finder.routes[index]\n",
    "    return node['dict']    \n",
    "\n",
    "def cluster_gui(app):\n",
    "    finder = app.finder\n",
    "    stats = finder.extract_statistics()\n",
    "    return ClusteringGui.from_app(app)"
   ]
  },
  {
   "cell_type": "code",
   "execution_count": 21,
   "id": "3278bc8e",
   "metadata": {},
   "outputs": [
    {
     "name": "stdout",
     "output_type": "stream",
     "text": [
      "Setting iteration limit to 2000\n",
      "Setting return first to True\n",
      "Setting time limit to 240\n",
      "Setting C to 1.4\n",
      "Setting cutoff cumulative to 0.999\n",
      "Setting cutoff number to 50\n",
      "Setting max transforms to 32\n",
      "Loading template-based expansion policy model from /home/fastflair/repos/aizynthfinder/data/uspto_model.hdf5 to uspto\n",
      "Loading templates from /home/fastflair/repos/aizynthfinder/data/uspto_templates.hdf5 to uspto\n",
      "Loading filter policy model from /home/fastflair/repos/aizynthfinder/data/uspto_filter_model.hdf5 to uspto\n",
      "Loading stock from /home/fastflair/repos/aizynthfinder/data/zinc_stock.hdf5 to zinc\n",
      "Selected as molecule cost: zero\n"
     ]
    },
    {
     "data": {
      "application/vnd.jupyter.widget-view+json": {
       "model_id": "c86122f60a454cd78e793e0f524e3315",
       "version_major": 2,
       "version_minor": 0
      },
      "text/plain": [
       "Text(value='', continuous_update=False, description='SMILES')"
      ]
     },
     "metadata": {},
     "output_type": "display_data"
    },
    {
     "data": {
      "application/vnd.jupyter.widget-view+json": {
       "model_id": "731f4bc0170e4479b3f837a01879d418",
       "version_major": 2,
       "version_minor": 0
      },
      "text/plain": [
       "Output(layout=Layout(border='1px solid silver', height='180px', width='50%'))"
      ]
     },
     "metadata": {},
     "output_type": "display_data"
    },
    {
     "data": {
      "application/vnd.jupyter.widget-view+json": {
       "model_id": "d4602fe0037243fc955a0c1ff7b72c13",
       "version_major": 2,
       "version_minor": 0
      },
      "text/plain": [
       "Tab(children=(HBox(children=(VBox(children=(Label(value='Stocks'), Checkbox(value=True, description='zinc', st…"
      ]
     },
     "metadata": {},
     "output_type": "display_data"
    },
    {
     "data": {
      "application/vnd.jupyter.widget-view+json": {
       "model_id": "0144205274f346f0b5cc972135a7f447",
       "version_major": 2,
       "version_minor": 0
      },
      "text/plain": [
       "HBox(children=(Button(description='Run Search', style=ButtonStyle()), Button(description='Extend Search', styl…"
      ]
     },
     "metadata": {},
     "output_type": "display_data"
    },
    {
     "data": {
      "application/vnd.jupyter.widget-view+json": {
       "model_id": "31acc080614d4c2cbaa7aee1641bad68",
       "version_major": 2,
       "version_minor": 0
      },
      "text/plain": [
       "Output(layout=Layout(border='1px solid silver', height='320px', overflow='auto', width='99%'))"
      ]
     },
     "metadata": {},
     "output_type": "display_data"
    },
    {
     "data": {
      "application/vnd.jupyter.widget-view+json": {
       "model_id": "c4a3f868468d4615bd03ebdc8c9b5cbf",
       "version_major": 2,
       "version_minor": 0
      },
      "text/plain": [
       "HBox(children=(Button(description='Show Reactions', style=ButtonStyle()), Dropdown(description='Routes: ', opt…"
      ]
     },
     "metadata": {},
     "output_type": "display_data"
    },
    {
     "data": {
      "application/vnd.jupyter.widget-view+json": {
       "model_id": "195d0614e36e4533991306e2a94b007f",
       "version_major": 2,
       "version_minor": 0
      },
      "text/plain": [
       "Output(layout=Layout(border='1px solid silver', width='99%'))"
      ]
     },
     "metadata": {},
     "output_type": "display_data"
    },
    {
     "name": "stderr",
     "output_type": "stream",
     "text": [
      "failed at node 21[1]\n",
      "dot: maze.c:313: chkSgraph: Assertion `np->cells[1]' failed.\n"
     ]
    }
   ],
   "source": [
    "app = AiZynthApp(\"./../data/config.yml\")"
   ]
  },
  {
   "cell_type": "code",
   "execution_count": 23,
   "id": "70a4f905",
   "metadata": {},
   "outputs": [
    {
     "data": {
      "application/vnd.jupyter.widget-view+json": {
       "model_id": "d7dfe656c64e46ba9373570baddb77d0",
       "version_major": 2,
       "version_minor": 0
      },
      "text/plain": [
       "Output(layout=Layout(height='310px', overflow_y='auto', width='99%'))"
      ]
     },
     "metadata": {},
     "output_type": "display_data"
    },
    {
     "data": {
      "application/vnd.jupyter.widget-view+json": {
       "model_id": "15d49b440d3c4a16966735e244aed818",
       "version_major": 2,
       "version_minor": 0
      },
      "text/plain": [
       "HBox(children=(Label(value='Number of clusters to make'), BoundedIntText(value=1, continuous_update=True, layo…"
      ]
     },
     "metadata": {},
     "output_type": "display_data"
    },
    {
     "data": {
      "application/vnd.jupyter.widget-view+json": {
       "model_id": "3b415f1794f943408cb0370282ef434e",
       "version_major": 2,
       "version_minor": 0
      },
      "text/plain": [
       "Output()"
      ]
     },
     "metadata": {},
     "output_type": "display_data"
    },
    {
     "data": {
      "application/vnd.jupyter.widget-view+json": {
       "model_id": "46c2a284e8bd45b69678bfd2d31fddf1",
       "version_major": 2,
       "version_minor": 0
      },
      "text/plain": [
       "Tab()"
      ]
     },
     "metadata": {},
     "output_type": "display_data"
    },
    {
     "data": {
      "text/plain": [
       "<aizynthfinder.interfaces.gui.clustering.ClusteringGui at 0x7efd567af100>"
      ]
     },
     "execution_count": 23,
     "metadata": {},
     "output_type": "execute_result"
    }
   ],
   "source": [
    "ClusteringGui.from_app(app)"
   ]
  },
  {
   "cell_type": "code",
   "execution_count": 37,
   "id": "a3d066b1",
   "metadata": {},
   "outputs": [
    {
     "data": {
      "text/plain": [
       "{'type': 'mol',\n",
       " 'hide': False,\n",
       " 'smiles': 'COC(=O)[C@H]1[C@@H](OC(=O)c2ccccc2)C[C@@H]2CC[C@H]1N2C',\n",
       " 'is_chemical': True,\n",
       " 'in_stock': False,\n",
       " 'children': [{'type': 'reaction',\n",
       "   'hide': False,\n",
       "   'smiles': '[C:1](=[O:2])([cH3:3])[O:5][CH3:4]>>O[C:1](=[O:2])[cH3:3].[CH3:4][O:5]',\n",
       "   'is_reaction': True,\n",
       "   'metadata': {'template_hash': '462ff262701550e8361ae350b730fe337624136bbbc825e08432a1b4',\n",
       "    'classification': 'O-acylation to ester',\n",
       "    'library_occurence': 375,\n",
       "    'policy_probability': 0.17059999704360962,\n",
       "    'policy_probability_rank': 1,\n",
       "    'policy_name': 'uspto',\n",
       "    'template_code': 12870,\n",
       "    'template': '([C:4]-[O;H0;D2;+0:5]-[C;H0;D3;+0:1](=[O;D1;H0:2])-[c:3])>>(O-[C;H0;D3;+0:1](=[O;D1;H0:2])-[c:3]).([C:4]-[OH;D1;+0:5])'},\n",
       "   'children': [{'type': 'mol',\n",
       "     'hide': False,\n",
       "     'smiles': 'O=C(O)c1ccccc1',\n",
       "     'is_chemical': True,\n",
       "     'in_stock': True},\n",
       "    {'type': 'mol',\n",
       "     'hide': False,\n",
       "     'smiles': 'COC(=O)[C@H]1[C@@H](O)C[C@@H]2CC[C@H]1N2C',\n",
       "     'is_chemical': True,\n",
       "     'in_stock': True}]}]}"
      ]
     },
     "execution_count": 37,
     "metadata": {},
     "output_type": "execute_result"
    }
   ],
   "source": [
    "retroSynRoute = get_node_dict(app, 0)\n",
    "retroSynRoute"
   ]
  },
  {
   "cell_type": "code",
   "execution_count": null,
   "id": "a2f15800",
   "metadata": {},
   "outputs": [],
   "source": []
  }
 ],
 "metadata": {
  "kernelspec": {
   "display_name": "Python 3 (ipykernel)",
   "language": "python",
   "name": "python3"
  },
  "language_info": {
   "codemirror_mode": {
    "name": "ipython",
    "version": 3
   },
   "file_extension": ".py",
   "mimetype": "text/x-python",
   "name": "python",
   "nbconvert_exporter": "python",
   "pygments_lexer": "ipython3",
   "version": "3.9.11"
  }
 },
 "nbformat": 4,
 "nbformat_minor": 5
}
