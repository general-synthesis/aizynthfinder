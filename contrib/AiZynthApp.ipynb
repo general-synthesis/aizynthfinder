{
 "cells": [
  {
   "cell_type": "code",
   "execution_count": 14,
   "id": "cdd23516",
   "metadata": {},
   "outputs": [],
   "source": [
    "# retrosynthesis\n",
    "from aizynthfinder.interfaces import AiZynthApp\n",
    "from aizynthfinder.interfaces.gui import ClusteringGui\n",
    "# chemical name references\n",
    "import requests\n",
    "import pubchempy"
   ]
  },
  {
   "cell_type": "markdown",
   "id": "c97611d6",
   "metadata": {},
   "source": [
    "## helpers for chemical names"
   ]
  },
  {
   "cell_type": "code",
   "execution_count": 15,
   "id": "2e9dff57",
   "metadata": {},
   "outputs": [],
   "source": [
    "CACTUS = \"https://cactus.nci.nih.gov/chemical/structure/{0}/{1}\"\n",
    "\n",
    "def smiles_to_iupac(smiles):\n",
    "    rep = \"iupac_name\"\n",
    "    url = CACTUS.format(smiles, rep)\n",
    "    response = requests.get(url)\n",
    "    response.raise_for_status()\n",
    "    return response.text\n",
    "#print(smiles_to_iupac('c1ccccc1'))\n",
    "#print(smiles_to_iupac('CC(=O)OC1=CC=CC=C1C(=O)O'))\n",
    "#[Out]:\n",
    "#BENZENE\n",
    "#2-acetyloxybenzoic acid\n",
    "def smiles_to_puchempy_name(smiles):\n",
    "    names = []\n",
    "    compounds = pubchempy.get_compounds(smiles, namespace='smiles')\n",
    "    for match in compounds:\n",
    "        names.append(match.iupac_name)\n",
    "    return names"
   ]
  },
  {
   "cell_type": "markdown",
   "id": "e6d91519",
   "metadata": {},
   "source": [
    "## helpers for AiZynth route queries"
   ]
  },
  {
   "cell_type": "code",
   "execution_count": 16,
   "id": "d31f3a18",
   "metadata": {},
   "outputs": [],
   "source": [
    "def get_node_dict(app, index):\n",
    "    finder = app.finder\n",
    "    node = finder.routes[index]\n",
    "    return node['dict']    \n",
    "\n",
    "def cluster_gui(app):\n",
    "    finder = app.finder\n",
    "    stats = finder.extract_statistics()\n",
    "    return ClusteringGui.from_app(app)"
   ]
  },
  {
   "cell_type": "code",
   "execution_count": 17,
   "id": "08684ed1",
   "metadata": {},
   "outputs": [],
   "source": [
    "moroidin = 'CC(C)CC1C(=O)NC(C(=O)NC2CC3=C(NC4=C3C=CC(=C4)C(C(C(=O)N1)NC(=O)C5CCC(=O)N5)C(C)C)N6C=C(CC(NC(=O)CNC(=O)C(NC2=O)CCC[NH+]=C(N)N)C(=O)[O-])N=C6)C(C)C'\n",
    "cocaine = 'CN1[C@H]2CC[C@@H]1[C@H]([C@H](C2)OC(=O)C3=CC=CC=C3)C(=O)OC'"
   ]
  },
  {
   "cell_type": "code",
   "execution_count": 18,
   "id": "c188067d",
   "metadata": {},
   "outputs": [
    {
     "name": "stdout",
     "output_type": "stream",
     "text": [
      "Setting iteration limit to 2000\n",
      "Setting return first to False\n",
      "Setting time limit to 240\n",
      "Setting C to 1.4\n",
      "Setting cutoff cumulative to 0.999\n",
      "Setting cutoff number to 50\n",
      "Setting max transforms to 10\n",
      "Loading template-based expansion policy model from /home/fastflair/repos/aizynthfinder/data/uspto_model.hdf5 to uspto\n",
      "Loading templates from /home/fastflair/repos/aizynthfinder/data/uspto_templates.hdf5 to uspto\n",
      "Loading filter policy model from /home/fastflair/repos/aizynthfinder/data/uspto_filter_model.hdf5 to uspto\n",
      "Loading stock from /home/fastflair/repos/aizynthfinder/data/zinc_stock.hdf5 to zinc\n",
      "Selected as molecule cost: zero\n"
     ]
    },
    {
     "data": {
      "application/vnd.jupyter.widget-view+json": {
       "model_id": "cfc797c8af634e91b188e7fe2d737332",
       "version_major": 2,
       "version_minor": 0
      },
      "text/plain": [
       "Text(value='', continuous_update=False, description='SMILES')"
      ]
     },
     "metadata": {},
     "output_type": "display_data"
    },
    {
     "data": {
      "application/vnd.jupyter.widget-view+json": {
       "model_id": "539b9c012402432b95eb45aa88d8cba4",
       "version_major": 2,
       "version_minor": 0
      },
      "text/plain": [
       "Output(layout=Layout(border='1px solid silver', height='180px', width='50%'))"
      ]
     },
     "metadata": {},
     "output_type": "display_data"
    },
    {
     "data": {
      "application/vnd.jupyter.widget-view+json": {
       "model_id": "4be4a20545b14f869f0dcee6e4afc44c",
       "version_major": 2,
       "version_minor": 0
      },
      "text/plain": [
       "Tab(children=(HBox(children=(VBox(children=(Label(value='Stocks'), Checkbox(value=True, description='zinc', st…"
      ]
     },
     "metadata": {},
     "output_type": "display_data"
    },
    {
     "data": {
      "application/vnd.jupyter.widget-view+json": {
       "model_id": "a9e6aa11a8684f57b69f4ba00898ed9d",
       "version_major": 2,
       "version_minor": 0
      },
      "text/plain": [
       "HBox(children=(Button(description='Run Search', style=ButtonStyle()), Button(description='Extend Search', styl…"
      ]
     },
     "metadata": {},
     "output_type": "display_data"
    },
    {
     "data": {
      "application/vnd.jupyter.widget-view+json": {
       "model_id": "46cc5030799245829937dd0c58300419",
       "version_major": 2,
       "version_minor": 0
      },
      "text/plain": [
       "Output(layout=Layout(border='1px solid silver', height='320px', overflow='auto', width='99%'))"
      ]
     },
     "metadata": {},
     "output_type": "display_data"
    },
    {
     "data": {
      "application/vnd.jupyter.widget-view+json": {
       "model_id": "a2ab5087ad0946e6baf0b2e98d82de84",
       "version_major": 2,
       "version_minor": 0
      },
      "text/plain": [
       "HBox(children=(Button(description='Show Reactions', style=ButtonStyle()), Dropdown(description='Routes: ', opt…"
      ]
     },
     "metadata": {},
     "output_type": "display_data"
    },
    {
     "data": {
      "application/vnd.jupyter.widget-view+json": {
       "model_id": "6e4ac9fd99694ceaafa79a501bcc6318",
       "version_major": 2,
       "version_minor": 0
      },
      "text/plain": [
       "Output(layout=Layout(border='1px solid silver', width='99%'))"
      ]
     },
     "metadata": {},
     "output_type": "display_data"
    }
   ],
   "source": [
    "app = AiZynthApp(\"./../data/config.yml\")"
   ]
  },
  {
   "cell_type": "markdown",
   "id": "14b54132",
   "metadata": {},
   "source": [
    "## run these after simulation via GUI"
   ]
  },
  {
   "cell_type": "code",
   "execution_count": 19,
   "id": "9643a511",
   "metadata": {},
   "outputs": [
    {
     "data": {
      "application/vnd.jupyter.widget-view+json": {
       "model_id": "89045571342548408a38f79de15c0ab0",
       "version_major": 2,
       "version_minor": 0
      },
      "text/plain": [
       "Output(layout=Layout(height='310px', overflow_y='auto', width='99%'))"
      ]
     },
     "metadata": {},
     "output_type": "display_data"
    },
    {
     "data": {
      "application/vnd.jupyter.widget-view+json": {
       "model_id": "c3668678c51f4b14b0eefef7f4562cf0",
       "version_major": 2,
       "version_minor": 0
      },
      "text/plain": [
       "HBox(children=(Label(value='Number of clusters to make'), BoundedIntText(value=1, continuous_update=True, layo…"
      ]
     },
     "metadata": {},
     "output_type": "display_data"
    },
    {
     "data": {
      "application/vnd.jupyter.widget-view+json": {
       "model_id": "17bcc64b4ab249beb69c969e6eb7ef39",
       "version_major": 2,
       "version_minor": 0
      },
      "text/plain": [
       "Output()"
      ]
     },
     "metadata": {},
     "output_type": "display_data"
    },
    {
     "data": {
      "application/vnd.jupyter.widget-view+json": {
       "model_id": "41f1207713084298be1df6970306f474",
       "version_major": 2,
       "version_minor": 0
      },
      "text/plain": [
       "Tab()"
      ]
     },
     "metadata": {},
     "output_type": "display_data"
    },
    {
     "data": {
      "text/plain": [
       "<aizynthfinder.interfaces.gui.clustering.ClusteringGui at 0x7fc78fd9adc0>"
      ]
     },
     "execution_count": 19,
     "metadata": {},
     "output_type": "execute_result"
    }
   ],
   "source": [
    "ClusteringGui.from_app(app)"
   ]
  },
  {
   "cell_type": "code",
   "execution_count": 21,
   "id": "294c6fef",
   "metadata": {},
   "outputs": [
    {
     "data": {
      "text/plain": [
       "{'type': 'mol',\n",
       " 'hide': False,\n",
       " 'smiles': 'CC(C)CC1NC(=O)C(NC(=O)C2CCC(=O)N2)C(C(C)C)c2ccc3c4c([nH]c3c2)-n2cnc(c2)CC(C(=O)[O-])NC(=O)CNC(=O)C(CCC[NH+]=C(N)N)NC(=O)C(C4)NC(=O)C(C(C)C)NC1=O',\n",
       " 'is_chemical': True,\n",
       " 'in_stock': False,\n",
       " 'children': [{'type': 'reaction',\n",
       "   'hide': False,\n",
       "   'smiles': '[C:1]([CH3:2])(=[O:3])[N:5][CH3:4]>>O[C:1]([CH3:2])=[O:3].[CH3:4][N:5]',\n",
       "   'is_reaction': True,\n",
       "   'metadata': {'template_hash': '9700dfbbea18932b10f40ed49527a6efd0b261364d0b5e3b1e240441',\n",
       "    'classification': 'N-acylation to amide',\n",
       "    'library_occurence': 5405,\n",
       "    'policy_probability': 0.006000000052154064,\n",
       "    'policy_probability_rank': 14,\n",
       "    'policy_name': 'uspto',\n",
       "    'template_code': 27622,\n",
       "    'template': '([C:4]-[NH;D2;+0:5]-[C;H0;D3;+0:1](-[C:2])=[O;D1;H0:3])>>(O-[C;H0;D3;+0:1](-[C:2])=[O;D1;H0:3]).([C:4]-[NH2;D1;+0:5])'},\n",
       "   'children': [{'type': 'mol',\n",
       "     'hide': False,\n",
       "     'smiles': 'CC(C)CC1NC(=O)C(NC(=O)C(N)CCC(=O)O)C(C(C)C)c2ccc3c4c([nH]c3c2)-n2cnc(c2)CC(C(=O)[O-])NC(=O)CNC(=O)C(CCC[NH+]=C(N)N)NC(=O)C(C4)NC(=O)C(C(C)C)NC1=O',\n",
       "     'is_chemical': True,\n",
       "     'in_stock': False,\n",
       "     'children': [{'type': 'reaction',\n",
       "       'hide': False,\n",
       "       'smiles': '([N:1][CH3:2].[O:3][C:4]([CH3:5])=[O:6])>>(CC(C)(C)OC(=O)[N:1][CH3:2].CC(C)(C)[O:3][C:4]([CH3:5])=[O:6])',\n",
       "       'is_reaction': True,\n",
       "       'metadata': {'template_hash': '3da7e0aef774108c11d0ad3aafafe34ddef34270824e224f2980aa17',\n",
       "        'classification': 'NH deprotections',\n",
       "        'library_occurence': 23,\n",
       "        'policy_probability': 0.007799999788403511,\n",
       "        'policy_probability_rank': 9,\n",
       "        'policy_name': 'uspto',\n",
       "        'template_code': 11252,\n",
       "        'template': '([C:5]-[C:4](=[O;D1;H0:6])-[OH;D1;+0:3].[C:2]-[NH2;D1;+0:1])>>(C-C(-C)(-C)-O-C(=O)-[NH;D2;+0:1]-[C:2].C-C(-C)(-C)-[O;H0;D2;+0:3]-[C:4](-[C:5])=[O;D1;H0:6])'},\n",
       "       'children': [{'type': 'mol',\n",
       "         'hide': False,\n",
       "         'smiles': 'CC(C)CC1NC(=O)C(NC(=O)C(CCC(=O)OC(C)(C)C)NC(=O)OC(C)(C)C)C(C(C)C)c2ccc3c4c([nH]c3c2)-n2cnc(c2)CC(C(=O)[O-])NC(=O)CNC(=O)C(CCC[NH+]=C(N)N)NC(=O)C(C4)NC(=O)C(C(C)C)NC1=O',\n",
       "         'is_chemical': True,\n",
       "         'in_stock': False,\n",
       "         'children': [{'type': 'reaction',\n",
       "           'hide': False,\n",
       "           'smiles': '[C:1]([CH3:2])(=[O:3])[N:8][CH2:7][C:5]([NH2:4])=[O:6]>>O[C:1]([CH3:2])=[O:3].[NH2:4][C:5](=[O:6])[CH2:7][N:8]',\n",
       "           'is_reaction': True,\n",
       "           'metadata': {'template_hash': '09e961e4c21b1adcf2f8d3b116773699ab5020ae114ca5b853caf10a',\n",
       "            'classification': 'N-acylation to amide',\n",
       "            'library_occurence': 1116,\n",
       "            'policy_probability': 0.5421000123023987,\n",
       "            'policy_probability_rank': 0,\n",
       "            'policy_name': 'uspto',\n",
       "            'template_code': 1847,\n",
       "            'template': '([#7:4]-[C:5](=[O;D1;H0:6])-[C:7]-[NH;D2;+0:8]-[C;H0;D3;+0:1](-[C:2])=[O;D1;H0:3])>>(O-[C;H0;D3;+0:1](-[C:2])=[O;D1;H0:3]).([#7:4]-[C:5](=[O;D1;H0:6])-[C:7]-[NH2;D1;+0:8])'},\n",
       "           'children': [{'type': 'mol',\n",
       "             'hide': False,\n",
       "             'smiles': 'CC(C)CC(NC(=O)C(NC(=O)C(CCC(=O)OC(C)(C)C)NC(=O)OC(C)(C)C)C(c1ccc2c3c([nH]c2c1)-n1cnc(c1)CC(C(=O)[O-])NC(=O)CNC(=O)C(CCC[NH+]=C(N)N)NC(=O)C(NC(=O)C(N)C(C)C)C3)C(C)C)C(=O)O',\n",
       "             'is_chemical': True,\n",
       "             'in_stock': False,\n",
       "             'children': [{'type': 'reaction',\n",
       "               'hide': False,\n",
       "               'smiles': '[C:1]([CH3:2])(=[O:3])[N:8][CH2:7][C:5]([NH2:4])=[O:6]>>O[C:1]([CH3:2])=[O:3].[NH2:4][C:5](=[O:6])[CH2:7][N:8]',\n",
       "               'is_reaction': True,\n",
       "               'metadata': {'template_hash': '09e961e4c21b1adcf2f8d3b116773699ab5020ae114ca5b853caf10a',\n",
       "                'classification': 'N-acylation to amide',\n",
       "                'library_occurence': 1116,\n",
       "                'policy_probability': 0.6421999931335449,\n",
       "                'policy_probability_rank': 0,\n",
       "                'policy_name': 'uspto',\n",
       "                'template_code': 1847,\n",
       "                'template': '([#7:4]-[C:5](=[O;D1;H0:6])-[C:7]-[NH;D2;+0:8]-[C;H0;D3;+0:1](-[C:2])=[O;D1;H0:3])>>(O-[C;H0;D3;+0:1](-[C:2])=[O;D1;H0:3]).([#7:4]-[C:5](=[O;D1;H0:6])-[C:7]-[NH2;D1;+0:8])'},\n",
       "               'children': [{'type': 'mol',\n",
       "                 'hide': False,\n",
       "                 'smiles': 'CC(C)(C)OC(=O)CCC(NC(=O)OC(C)(C)C)C(=O)O',\n",
       "                 'is_chemical': True,\n",
       "                 'in_stock': False,\n",
       "                 'children': [{'type': 'reaction',\n",
       "                   'hide': False,\n",
       "                   'smiles': '[C:1](=[O:2])([O:3][C:4]([CH3:5])([CH3:6])[CH3:7])[N:8][CH2:9][C:10](=[O:11])[OH:12]>>CC(C)(C)OC(=O)O[C:1](=[O:2])[O:3][C:4]([CH3:5])([CH3:6])[CH3:7].[N:8][CH2:9][C:10](=[O:11])[OH:12]',\n",
       "                   'is_reaction': True,\n",
       "                   'metadata': {'template_hash': 'b0f77e38e2e40dd09d4d61605ac2ad3b8feaa3be7d39c24a661fd720',\n",
       "                    'classification': 'NH protections',\n",
       "                    'library_occurence': 191,\n",
       "                    'policy_probability': 0.6973999738693237,\n",
       "                    'policy_probability_rank': 0,\n",
       "                    'policy_name': 'uspto',\n",
       "                    'template_code': 32333,\n",
       "                    'template': '([C;D1;H3:5]-[C:4](-[C;D1;H3:6])(-[C;D1;H3:7])-[#8:3]-[C;H0;D3;+0:1](=[O;D1;H0:2])-[NH;D2;+0:8]-[C:9]-[C:10](=[O;D1;H0:11])-[O;D1;H1:12])>>(C-C(-C)(-C)-O-C(=O)-O-[C;H0;D3;+0:1](=[O;D1;H0:2])-[#8:3]-[C:4](-[C;D1;H3:5])(-[C;D1;H3:6])-[C;D1;H3:7]).([NH2;D1;+0:8]-[C:9]-[C:10](=[O;D1;H0:11])-[O;D1;H1:12])'},\n",
       "                   'children': [{'type': 'mol',\n",
       "                     'hide': False,\n",
       "                     'smiles': 'CC(C)(C)OC(=O)CCC(N)C(=O)O',\n",
       "                     'is_chemical': True,\n",
       "                     'in_stock': False,\n",
       "                     'children': [{'type': 'reaction',\n",
       "                       'hide': False,\n",
       "                       'smiles': '([C:1]([O:2])(=[O:3])[C:9]([CH3:8])[NH2:10].[C:4]([CH3:5])([CH3:6])([CH3:7])[O:13][CH:12]=[O:11])>>([CH3:8][C:9][NH2:10].[O:11]=[CH:12][O:13]).CC(C)(C)OC(=O)O[C:1](=[O:2])[O:3]C(C)(C)C.O[C:4]([CH3:5])([CH3:6])[CH3:7]',\n",
       "                       'is_reaction': True,\n",
       "                       'metadata': {'template_hash': 'd1fa942aaac070776ace7282e254132a542848555ce9d6aefabf438c',\n",
       "                        'classification': 'Unassigned',\n",
       "                        'library_occurence': 3,\n",
       "                        'policy_probability': 0.632099986076355,\n",
       "                        'policy_probability_rank': 0,\n",
       "                        'policy_name': 'uspto',\n",
       "                        'template_code': 38439,\n",
       "                        'template': '([C;D1;H3:5]-[C;H0;D4;+0:4](-[C;D1;H3:6])(-[C;D1;H3:7])-[O;H0;D2;+0:13]-[C:12]=[O;D1;H0:11].[C:8]-[CH;D3;+0:9](-[N;D1;H2:10])-[C;H0;D3;+0:1](=[O;H0;D1;+0:3])-[OH;D1;+0:2])>>(C-C(-C)(-C)-O-C(=O)-O-[C;H0;D3;+0:1](=[O;H0;D1;+0:2])-[O;H0;D2;+0:3]-C(-C)(-C)-C).(O-[C;H0;D4;+0:4](-[C;D1;H3:5])(-[C;D1;H3:6])-[C;D1;H3:7]).([C:8]-[CH2;D2;+0:9]-[N;D1;H2:10].[O;D1;H0:11]=[C:12]-[OH;D1;+0:13])'},\n",
       "                       'children': [{'type': 'mol',\n",
       "                         'hide': False,\n",
       "                         'smiles': 'CC(C)(C)O',\n",
       "                         'is_chemical': True,\n",
       "                         'in_stock': True},\n",
       "                        {'type': 'mol',\n",
       "                         'hide': False,\n",
       "                         'smiles': 'NCCCC(=O)O',\n",
       "                         'is_chemical': True,\n",
       "                         'in_stock': True},\n",
       "                        {'type': 'mol',\n",
       "                         'hide': False,\n",
       "                         'smiles': 'CC(C)(C)OC(=O)OC(=O)OC(C)(C)C',\n",
       "                         'is_chemical': True,\n",
       "                         'in_stock': True}]}]},\n",
       "                    {'type': 'mol',\n",
       "                     'hide': False,\n",
       "                     'smiles': 'CC(C)(C)OC(=O)OC(=O)OC(C)(C)C',\n",
       "                     'is_chemical': True,\n",
       "                     'in_stock': True}]}]},\n",
       "                {'type': 'mol',\n",
       "                 'hide': False,\n",
       "                 'smiles': 'CC(C)CC(NC(=O)C(N)C(c1ccc2c3c([nH]c2c1)-n1cnc(c1)CC(C(=O)[O-])NC(=O)CNC(=O)C(CCC[NH+]=C(N)N)NC(=O)C(NC(=O)C(N)C(C)C)C3)C(C)C)C(=O)O',\n",
       "                 'is_chemical': True,\n",
       "                 'in_stock': False,\n",
       "                 'children': [{'type': 'reaction',\n",
       "                   'hide': False,\n",
       "                   'smiles': '[C:1]([CH3:2])(=[O:3])[N:8][CH2:7][C:5]([NH2:4])=[O:6]>>O[C:1]([CH3:2])=[O:3].[NH2:4][C:5](=[O:6])[CH2:7][N:8]',\n",
       "                   'is_reaction': True,\n",
       "                   'metadata': {'template_hash': '09e961e4c21b1adcf2f8d3b116773699ab5020ae114ca5b853caf10a',\n",
       "                    'classification': 'N-acylation to amide',\n",
       "                    'library_occurence': 1116,\n",
       "                    'policy_probability': 0.23229999840259552,\n",
       "                    'policy_probability_rank': 0,\n",
       "                    'policy_name': 'uspto',\n",
       "                    'template_code': 1847,\n",
       "                    'template': '([#7:4]-[C:5](=[O;D1;H0:6])-[C:7]-[NH;D2;+0:8]-[C;H0;D3;+0:1](-[C:2])=[O;D1;H0:3])>>(O-[C;H0;D3;+0:1](-[C:2])=[O;D1;H0:3]).([#7:4]-[C:5](=[O;D1;H0:6])-[C:7]-[NH2;D1;+0:8])'},\n",
       "                   'children': [{'type': 'mol',\n",
       "                     'hide': False,\n",
       "                     'smiles': 'CC(C)CC(NC(=O)C(N)C(c1ccc2c(CC(NC(=O)C(N)C(C)C)C(=O)O)c(-n3cnc(CC(NC(=O)CNC(=O)C(N)CCC[NH+]=C(N)N)C(=O)[O-])c3)[nH]c2c1)C(C)C)C(=O)O',\n",
       "                     'is_chemical': True,\n",
       "                     'in_stock': False}]}]}]}]}]}]}]}]}]}]}"
      ]
     },
     "execution_count": 21,
     "metadata": {},
     "output_type": "execute_result"
    }
   ],
   "source": [
    "retroSynRoute = get_node_dict(app, 5)\n",
    "retroSynRoute"
   ]
  },
  {
   "cell_type": "code",
   "execution_count": 22,
   "id": "ed5a46a9",
   "metadata": {},
   "outputs": [],
   "source": [
    "NIS = 'CC(C)CC(NC(=O)C(N)C(c1ccc2c3c([nH]c2c1)-n1cnc(c1)CC(C(=O)[O-])NC(=O)CNC(=O)C(CCC[NH+]=C(N)N)NC(=O)C(NC(=O)C(N)C(C)C)C3)C(C)C)C(=O)O'"
   ]
  },
  {
   "cell_type": "code",
   "execution_count": 23,
   "id": "f15c93bc",
   "metadata": {},
   "outputs": [
    {
     "name": "stdout",
     "output_type": "stream",
     "text": [
      "Setting iteration limit to 2000\n",
      "Setting return first to False\n",
      "Setting time limit to 240\n",
      "Setting C to 1.4\n",
      "Setting cutoff cumulative to 0.999\n",
      "Setting cutoff number to 50\n",
      "Setting max transforms to 10\n",
      "Loading template-based expansion policy model from /home/fastflair/repos/aizynthfinder/data/uspto_model.hdf5 to uspto\n",
      "Loading templates from /home/fastflair/repos/aizynthfinder/data/uspto_templates.hdf5 to uspto\n",
      "Loading filter policy model from /home/fastflair/repos/aizynthfinder/data/uspto_filter_model.hdf5 to uspto\n",
      "Loading stock from /home/fastflair/repos/aizynthfinder/data/zinc_stock.hdf5 to zinc\n",
      "Selected as molecule cost: zero\n"
     ]
    },
    {
     "data": {
      "application/vnd.jupyter.widget-view+json": {
       "model_id": "aeef1118d7444d09b9a566fae3731d84",
       "version_major": 2,
       "version_minor": 0
      },
      "text/plain": [
       "Text(value='', continuous_update=False, description='SMILES')"
      ]
     },
     "metadata": {},
     "output_type": "display_data"
    },
    {
     "data": {
      "application/vnd.jupyter.widget-view+json": {
       "model_id": "6cd70c67f07c4f4f960c6f53ef09d182",
       "version_major": 2,
       "version_minor": 0
      },
      "text/plain": [
       "Output(layout=Layout(border='1px solid silver', height='180px', width='50%'))"
      ]
     },
     "metadata": {},
     "output_type": "display_data"
    },
    {
     "data": {
      "application/vnd.jupyter.widget-view+json": {
       "model_id": "7a1ee79ce0eb421fb07796137e71a7a8",
       "version_major": 2,
       "version_minor": 0
      },
      "text/plain": [
       "Tab(children=(HBox(children=(VBox(children=(Label(value='Stocks'), Checkbox(value=True, description='zinc', st…"
      ]
     },
     "metadata": {},
     "output_type": "display_data"
    },
    {
     "data": {
      "application/vnd.jupyter.widget-view+json": {
       "model_id": "86cab1bddb1941f3baa9641afcd9f19d",
       "version_major": 2,
       "version_minor": 0
      },
      "text/plain": [
       "HBox(children=(Button(description='Run Search', style=ButtonStyle()), Button(description='Extend Search', styl…"
      ]
     },
     "metadata": {},
     "output_type": "display_data"
    },
    {
     "data": {
      "application/vnd.jupyter.widget-view+json": {
       "model_id": "5e32fb3972a042a0a6b5a19d3c75975c",
       "version_major": 2,
       "version_minor": 0
      },
      "text/plain": [
       "Output(layout=Layout(border='1px solid silver', height='320px', overflow='auto', width='99%'))"
      ]
     },
     "metadata": {},
     "output_type": "display_data"
    },
    {
     "data": {
      "application/vnd.jupyter.widget-view+json": {
       "model_id": "dcd547ab19b94cfd96371872f37ed525",
       "version_major": 2,
       "version_minor": 0
      },
      "text/plain": [
       "HBox(children=(Button(description='Show Reactions', style=ButtonStyle()), Dropdown(description='Routes: ', opt…"
      ]
     },
     "metadata": {},
     "output_type": "display_data"
    },
    {
     "data": {
      "application/vnd.jupyter.widget-view+json": {
       "model_id": "b9228e7dacec4806a2ae7c4ec73d9ce4",
       "version_major": 2,
       "version_minor": 0
      },
      "text/plain": [
       "Output(layout=Layout(border='1px solid silver', width='99%'))"
      ]
     },
     "metadata": {},
     "output_type": "display_data"
    }
   ],
   "source": [
    "app2 = AiZynthApp(\"./../data/config.yml\")"
   ]
  },
  {
   "cell_type": "code",
   "execution_count": 32,
   "id": "df195432",
   "metadata": {},
   "outputs": [
    {
     "data": {
      "application/vnd.jupyter.widget-view+json": {
       "model_id": "4d174f659ba04185aa4365b8a8b3c6a0",
       "version_major": 2,
       "version_minor": 0
      },
      "text/plain": [
       "Output(layout=Layout(height='310px', overflow_y='auto', width='99%'))"
      ]
     },
     "metadata": {},
     "output_type": "display_data"
    },
    {
     "data": {
      "application/vnd.jupyter.widget-view+json": {
       "model_id": "c46396d59dda4307b4e7983a68d4c2bb",
       "version_major": 2,
       "version_minor": 0
      },
      "text/plain": [
       "HBox(children=(Label(value='Number of clusters to make'), BoundedIntText(value=1, continuous_update=True, layo…"
      ]
     },
     "metadata": {},
     "output_type": "display_data"
    },
    {
     "data": {
      "application/vnd.jupyter.widget-view+json": {
       "model_id": "fde89974b72d4fadb8d222ac386173b8",
       "version_major": 2,
       "version_minor": 0
      },
      "text/plain": [
       "Output()"
      ]
     },
     "metadata": {},
     "output_type": "display_data"
    },
    {
     "data": {
      "application/vnd.jupyter.widget-view+json": {
       "model_id": "92ceb8f4c72f466087199d35629a29be",
       "version_major": 2,
       "version_minor": 0
      },
      "text/plain": [
       "Tab()"
      ]
     },
     "metadata": {},
     "output_type": "display_data"
    },
    {
     "data": {
      "text/plain": [
       "<aizynthfinder.interfaces.gui.clustering.ClusteringGui at 0x7fc594895880>"
      ]
     },
     "execution_count": 32,
     "metadata": {},
     "output_type": "execute_result"
    }
   ],
   "source": [
    "ClusteringGui.from_app(app2)"
   ]
  },
  {
   "cell_type": "code",
   "execution_count": 33,
   "id": "20a96fe4",
   "metadata": {},
   "outputs": [
    {
     "data": {
      "text/plain": [
       "{'type': 'mol',\n",
       " 'hide': False,\n",
       " 'smiles': 'CC(C)CC(NC(=O)C(N)C(c1ccc2c(CC(NC(=O)C(N)C(C)C)C(=O)O)c(-n3cnc(CC(NC(=O)CNC(=O)C(N)CCC[NH+]=C(N)N)C(=O)[O-])c3)[nH]c2c1)C(C)C)C(=O)O',\n",
       " 'is_chemical': True,\n",
       " 'in_stock': False,\n",
       " 'children': [{'type': 'reaction',\n",
       "   'hide': False,\n",
       "   'smiles': '[N:1][CH2:2][C:3](=[O:4])[NH:5][CH2:6][C:7](=[O:8])[O:9]>>O=C(OCc1ccccc1)[N:1][CH2:2][C:3](=[O:4])[NH:5][CH2:6][C:7](=[O:8])[O:9]Cc1ccccc1',\n",
       "   'is_reaction': True,\n",
       "   'metadata': {'template_hash': '9da91190308c5251096452760eba2cb0495da186084f8d7bae10c2f5',\n",
       "    'classification': 'NH deprotections',\n",
       "    'library_occurence': 3,\n",
       "    'policy_probability': 0.0006000000284984708,\n",
       "    'policy_probability_rank': 20,\n",
       "    'policy_name': 'uspto',\n",
       "    'template_code': 28845,\n",
       "    'template': '([NH2;D1;+0:1]-[C:2]-[C:3](=[O;D1;H0:4])-[#7:5]-[C:6]-[C:7](=[O;D1;H0:8])-[OH;D1;+0:9])>>(O=C(-O-C-c1:c:c:c:c:c:1)-[NH;D2;+0:1]-[C:2]-[C:3](=[O;D1;H0:4])-[#7:5]-[C:6]-[C:7](=[O;D1;H0:8])-[O;H0;D2;+0:9]-C-c1:c:c:c:c:c:1)'},\n",
       "   'children': [{'type': 'mol',\n",
       "     'hide': False,\n",
       "     'smiles': 'CC(C)CC(NC(=O)C(NC(=O)OCc1ccccc1)C(c1ccc2c(CC(NC(=O)C(N)C(C)C)C(=O)O)c(-n3cnc(CC(NC(=O)CNC(=O)C(N)CCC[NH+]=C(N)N)C(=O)[O-])c3)[nH]c2c1)C(C)C)C(=O)OCc1ccccc1',\n",
       "     'is_chemical': True,\n",
       "     'in_stock': False,\n",
       "     'children': [{'type': 'reaction',\n",
       "       'hide': False,\n",
       "       'smiles': '[O:1]=[C:2]([CH3:3])[N:5][CH3:4]>>O=C1CCC(=O)N1[O:1][C:2](=O)[CH3:3].[CH3:4][N:5]',\n",
       "       'is_reaction': True,\n",
       "       'metadata': {'template_hash': '48ac9738c4f0de34f09eafad670ba0da011f1a879dd5c28abf9ac53c',\n",
       "        'classification': 'Unassigned',\n",
       "        'library_occurence': 83,\n",
       "        'policy_probability': 0.01119999960064888,\n",
       "        'policy_probability_rank': 8,\n",
       "        'policy_name': 'uspto',\n",
       "        'template_code': 13318,\n",
       "        'template': '([C:4]-[NH;D2;+0:5]-[C;H0;D3;+0:2](-[C:3])=[O;H0;D1;+0:1])>>(O=C1-C-C-C(=O)-N-1-[O;H0;D2;+0:1]-[C;H0;D3;+0:2](=O)-[C:3]).([C:4]-[NH2;D1;+0:5])'},\n",
       "       'children': [{'type': 'mol',\n",
       "         'hide': False,\n",
       "         'smiles': 'CC(C)CC(N)C(=O)OCc1ccccc1',\n",
       "         'is_chemical': True,\n",
       "         'in_stock': False,\n",
       "         'children': [{'type': 'reaction',\n",
       "           'hide': False,\n",
       "           'smiles': '[N:1][CH2:2][C:3](=[O:4])[O:5][CH2:6][cH3:7]>>O=C(OCC1c2ccccc2-c2ccccc21)[N:1][CH2:2][C:3](=[O:4])[O:5][CH2:6][cH3:7]',\n",
       "           'is_reaction': True,\n",
       "           'metadata': {'template_hash': '92b28fd0a991a6dc90fce49d5d712df0ddf479bdd431e0e552dd2c34',\n",
       "            'classification': 'NH deprotections',\n",
       "            'library_occurence': 5,\n",
       "            'policy_probability': 0.38940000534057617,\n",
       "            'policy_probability_rank': 0,\n",
       "            'policy_name': 'uspto',\n",
       "            'template_code': 26809,\n",
       "            'template': '([NH2;D1;+0:1]-[C:2]-[C:3](=[O;D1;H0:4])-[#8:5]-[C:6]-[c:7])>>(O=C(-O-C-C1-c2:c:c:c:c:c:2-c2:c:c:c:c:c:2-1)-[NH;D2;+0:1]-[C:2]-[C:3](=[O;D1;H0:4])-[#8:5]-[C:6]-[c:7])'},\n",
       "           'children': [{'type': 'mol',\n",
       "             'hide': False,\n",
       "             'smiles': 'CC(C)CC(NC(=O)OCC1c2ccccc2-c2ccccc21)C(=O)OCc1ccccc1',\n",
       "             'is_chemical': True,\n",
       "             'in_stock': False,\n",
       "             'children': [{'type': 'reaction',\n",
       "               'hide': False,\n",
       "               'smiles': '[C:1]([cH3:2])[O:5][CH:4]=[O:3]>>Br[C:1][cH3:2].[O:3]=[CH:4][O:5]',\n",
       "               'is_reaction': True,\n",
       "               'metadata': {'template_hash': 'fa607456e98c145bd218d1e360a25adfe3b1a6f9390494af0d74f2bf',\n",
       "                'classification': 'O-substitution',\n",
       "                'library_occurence': 392,\n",
       "                'policy_probability': 0.4481000006198883,\n",
       "                'policy_probability_rank': 0,\n",
       "                'policy_name': 'uspto',\n",
       "                'template_code': 45718,\n",
       "                'template': '([O;D1;H0:3]=[C:4]-[O;H0;D2;+0:5]-[CH2;D2;+0:1]-[c:2])>>(Br-[CH2;D2;+0:1]-[c:2]).([O;D1;H0:3]=[C:4]-[OH;D1;+0:5])'},\n",
       "               'children': [{'type': 'mol',\n",
       "                 'hide': False,\n",
       "                 'smiles': 'BrCc1ccccc1',\n",
       "                 'is_chemical': True,\n",
       "                 'in_stock': True},\n",
       "                {'type': 'mol',\n",
       "                 'hide': False,\n",
       "                 'smiles': 'CC(C)CC(NC(=O)OCC1c2ccccc2-c2ccccc21)C(=O)O',\n",
       "                 'is_chemical': True,\n",
       "                 'in_stock': False,\n",
       "                 'children': [{'type': 'reaction',\n",
       "                   'hide': False,\n",
       "                   'smiles': '[C:1]([OH:2])(=[O:3])[N:4][CH2:5][C:6](=[O:7])[OH:8]>>Cl[C:1]([OH:2])=[O:3].[N:4][CH2:5][C:6](=[O:7])[OH:8]',\n",
       "                   'is_reaction': True,\n",
       "                   'metadata': {'template_hash': '9f356963cf5adc8c441d3c37d73c4a5712c44a66988790a873482ef1',\n",
       "                    'classification': 'N-acylation to amide',\n",
       "                    'library_occurence': 83,\n",
       "                    'policy_probability': 0.6891999840736389,\n",
       "                    'policy_probability_rank': 0,\n",
       "                    'policy_name': 'uspto',\n",
       "                    'template_code': 29123,\n",
       "                    'template': '([#8:2]-[C;H0;D3;+0:1](=[O;D1;H0:3])-[NH;D2;+0:4]-[C:5]-[C:6](=[O;D1;H0:7])-[O;D1;H1:8])>>(Cl-[C;H0;D3;+0:1](-[#8:2])=[O;D1;H0:3]).([NH2;D1;+0:4]-[C:5]-[C:6](=[O;D1;H0:7])-[O;D1;H1:8])'},\n",
       "                   'children': [{'type': 'mol',\n",
       "                     'hide': False,\n",
       "                     'smiles': 'CC(C)CC(N)C(=O)O',\n",
       "                     'is_chemical': True,\n",
       "                     'in_stock': False,\n",
       "                     'children': [{'type': 'reaction',\n",
       "                       'hide': False,\n",
       "                       'smiles': '[N:1][CH2:2][C:3](=[O:4])[OH:5]>>CC(C)(C)OC(=O)[N:1][CH2:2][C:3](=[O:4])[OH:5]',\n",
       "                       'is_reaction': True,\n",
       "                       'metadata': {'template_hash': '8944fd91bb744251888d24c87709532f0fe220e0681ae5a1e36dad63',\n",
       "                        'classification': 'NH deprotections',\n",
       "                        'library_occurence': 51,\n",
       "                        'policy_probability': 0.22130000591278076,\n",
       "                        'policy_probability_rank': 0,\n",
       "                        'policy_name': 'uspto',\n",
       "                        'template_code': 25137,\n",
       "                        'template': '([NH2;D1;+0:1]-[C:2]-[C:3](=[O;D1;H0:4])-[O;D1;H1:5])>>(C-C(-C)(-C)-O-C(=O)-[NH;D2;+0:1]-[C:2]-[C:3](=[O;D1;H0:4])-[O;D1;H1:5])'},\n",
       "                       'children': [{'type': 'mol',\n",
       "                         'hide': False,\n",
       "                         'smiles': 'CC(C)CC(NC(=O)OC(C)(C)C)C(=O)O',\n",
       "                         'is_chemical': True,\n",
       "                         'in_stock': False,\n",
       "                         'children': [{'type': 'reaction',\n",
       "                           'hide': False,\n",
       "                           'smiles': '[O:1][C:2]([CH3:3])=[O:4]>>C[O:1][C:2]([CH3:3])=[O:4]',\n",
       "                           'is_reaction': True,\n",
       "                           'metadata': {'template_hash': '0a02d2d47df007d05d29f7b852c5bfe9dcbd7a32224d027cc636bd27',\n",
       "                            'classification': 'RCO2H deprotections',\n",
       "                            'library_occurence': 9484,\n",
       "                            'policy_probability': 0.18160000443458557,\n",
       "                            'policy_probability_rank': 1,\n",
       "                            'policy_name': 'uspto',\n",
       "                            'template_code': 1867,\n",
       "                            'template': '([C:3]-[C:2](=[O;D1;H0:4])-[OH;D1;+0:1])>>(C-[O;H0;D2;+0:1]-[C:2](-[C:3])=[O;D1;H0:4])'},\n",
       "                           'children': [{'type': 'mol',\n",
       "                             'hide': False,\n",
       "                             'smiles': 'COC(=O)C(CC(C)C)NC(=O)OC(C)(C)C',\n",
       "                             'is_chemical': True,\n",
       "                             'in_stock': False,\n",
       "                             'children': [{'type': 'reaction',\n",
       "                               'hide': False,\n",
       "                               'smiles': '[C:1](=[O:2])([O:3][C:4]([CH3:5])([CH3:6])[CH3:7])[N:13][CH2:12][C:10]([O:9][CH3:8])=[O:11]>>CC(C)(C)OC(=O)O[C:1](=[O:2])[O:3][C:4]([CH3:5])([CH3:6])[CH3:7].[CH3:8][O:9][C:10](=[O:11])[CH2:12][N:13]',\n",
       "                               'is_reaction': True,\n",
       "                               'metadata': {'template_hash': '732aac08e57e1752bf4893b2eb18a8ae059a53512fc2501959fa4b44',\n",
       "                                'classification': 'NH protections',\n",
       "                                'library_occurence': 48,\n",
       "                                'policy_probability': 0.39410001039505005,\n",
       "                                'policy_probability_rank': 0,\n",
       "                                'policy_name': 'uspto',\n",
       "                                'template_code': 21156,\n",
       "                                'template': '([C;D1;H3:5]-[C:4](-[C;D1;H3:6])(-[C;D1;H3:7])-[#8:3]-[C;H0;D3;+0:1](=[O;D1;H0:2])-[NH;D2;+0:13]-[C:12]-[C:10](=[O;D1;H0:11])-[#8:9]-[C;D1;H3:8])>>(C-C(-C)(-C)-O-C(=O)-O-[C;H0;D3;+0:1](=[O;D1;H0:2])-[#8:3]-[C:4](-[C;D1;H3:5])(-[C;D1;H3:6])-[C;D1;H3:7]).([C;D1;H3:8]-[#8:9]-[C:10](=[O;D1;H0:11])-[C:12]-[NH2;D1;+0:13])'},\n",
       "                               'children': [{'type': 'mol',\n",
       "                                 'hide': False,\n",
       "                                 'smiles': 'COC(=O)C(N)CC(C)C',\n",
       "                                 'is_chemical': True,\n",
       "                                 'in_stock': False},\n",
       "                                {'type': 'mol',\n",
       "                                 'hide': False,\n",
       "                                 'smiles': 'CC(C)(C)OC(=O)OC(=O)OC(C)(C)C',\n",
       "                                 'is_chemical': True,\n",
       "                                 'in_stock': True}]}]}]}]}]}]},\n",
       "                    {'type': 'mol',\n",
       "                     'hide': False,\n",
       "                     'smiles': 'O=C(Cl)OCC1c2ccccc2-c2ccccc21',\n",
       "                     'is_chemical': True,\n",
       "                     'in_stock': False,\n",
       "                     'children': [{'type': 'reaction',\n",
       "                       'hide': False,\n",
       "                       'smiles': '[C:1]([Cl:2])(=[O:3])[O:5][CH3:4]>>Cl[C:1]([Cl:2])=[O:3].[CH3:4][O:5]',\n",
       "                       'is_reaction': True,\n",
       "                       'metadata': {'template_hash': '79183227f807eefb6d843adf5c04e578d5bc4e3e6a0fd35173eca39e',\n",
       "                        'classification': 'O-acylation to ester',\n",
       "                        'library_occurence': 57,\n",
       "                        'policy_probability': 0.7566999793052673,\n",
       "                        'policy_probability_rank': 0,\n",
       "                        'policy_name': 'uspto',\n",
       "                        'template_code': 22206,\n",
       "                        'template': '([C:4]-[O;H0;D2;+0:5]-[C;H0;D3;+0:1](-[Cl;D1;H0:2])=[O;D1;H0:3])>>(Cl-[C;H0;D3;+0:1](-[Cl;D1;H0:2])=[O;D1;H0:3]).([C:4]-[OH;D1;+0:5])'},\n",
       "                       'children': [{'type': 'mol',\n",
       "                         'hide': False,\n",
       "                         'smiles': 'O=C(Cl)Cl',\n",
       "                         'is_chemical': True,\n",
       "                         'in_stock': True},\n",
       "                        {'type': 'mol',\n",
       "                         'hide': False,\n",
       "                         'smiles': 'OCC1c2ccccc2-c2ccccc21',\n",
       "                         'is_chemical': True,\n",
       "                         'in_stock': True}]}]}]}]}]}]}]}]},\n",
       "        {'type': 'mol',\n",
       "         'hide': False,\n",
       "         'smiles': 'CC(C)C(N)C(=O)NC(Cc1c(-n2cnc(CC(NC(=O)CNC(=O)C(N)CCC[NH+]=C(N)N)C(=O)[O-])c2)[nH]c2cc(C(C(C)C)C(NC(=O)OCc3ccccc3)C(=O)ON3C(=O)CCC3=O)ccc12)C(=O)O',\n",
       "         'is_chemical': True,\n",
       "         'in_stock': False,\n",
       "         'children': [{'type': 'reaction',\n",
       "           'hide': False,\n",
       "           'smiles': '[N:1][CH2:2][C:3]([NH2:4])=[O:5]>>CC(C)(C)OC(=O)[N:1][CH2:2][C:3]([NH2:4])=[O:5]',\n",
       "           'is_reaction': True,\n",
       "           'metadata': {'template_hash': '140717369b6c661d32f428907ffcecf2a0f3702c28cc263bfa3ac1c3',\n",
       "            'classification': 'NH deprotections',\n",
       "            'library_occurence': 1106,\n",
       "            'policy_probability': 0.2913999855518341,\n",
       "            'policy_probability_rank': 0,\n",
       "            'policy_name': 'uspto',\n",
       "            'template_code': 3665,\n",
       "            'template': '([#7:4]-[C:3](=[O;D1;H0:5])-[C:2]-[NH2;D1;+0:1])>>(C-C(-C)(-C)-O-C(=O)-[NH;D2;+0:1]-[C:2]-[C:3](-[#7:4])=[O;D1;H0:5])'},\n",
       "           'children': [{'type': 'mol',\n",
       "             'hide': False,\n",
       "             'smiles': 'CC(C)C(N)C(=O)NC(Cc1c(-n2cnc(CC(NC(=O)CNC(=O)C(CCC[NH+]=C(N)N)NC(=O)OC(C)(C)C)C(=O)[O-])c2)[nH]c2cc(C(C(C)C)C(NC(=O)OCc3ccccc3)C(=O)ON3C(=O)CCC3=O)ccc12)C(=O)O',\n",
       "             'is_chemical': True,\n",
       "             'in_stock': False,\n",
       "             'children': [{'type': 'reaction',\n",
       "               'hide': False,\n",
       "               'smiles': '[N:1]1([O:10][CH:9]=[O:8])[C:2](=[O:3])[CH2:4][CH2:5][C:6]1=[O:7]>>CN(C)C(O[N:1]1[C:2](=[O:3])[CH2:4][CH2:5][C:6]1=[O:7])=[N+](C)C.[O:8]=[CH:9][O:10]',\n",
       "               'is_reaction': True,\n",
       "               'metadata': {'template_hash': '6246d6214dc6af114b4712520f33447f0ca7283327194bcf1bc9e943',\n",
       "                'classification': 'Unassigned',\n",
       "                'library_occurence': 25,\n",
       "                'policy_probability': 0.6328999996185303,\n",
       "                'policy_probability_rank': 0,\n",
       "                'policy_name': 'uspto',\n",
       "                'template_code': 18104,\n",
       "                'template': '([O;D1;H0:8]=[C:9]-[O;H0;D2;+0:10]-[N;H0;D3;+0:1]1-[C:2](=[O;D1;H0:3])-[C:4]-[C:5]-[C:6]-1=[O;D1;H0:7])>>(C-N(-C)-C(-O-[N;H0;D3;+0:1]1-[C:2](=[O;D1;H0:3])-[C:4]-[C:5]-[C:6]-1=[O;D1;H0:7])=[N+](-C)-C).([O;D1;H0:8]=[C:9]-[OH;D1;+0:10])'},\n",
       "               'children': [{'type': 'mol',\n",
       "                 'hide': False,\n",
       "                 'smiles': 'CN(C)C(ON1C(=O)CCC1=O)=[N+](C)C',\n",
       "                 'is_chemical': True,\n",
       "                 'in_stock': True},\n",
       "                {'type': 'mol',\n",
       "                 'hide': False,\n",
       "                 'smiles': 'CC(C)C(N)C(=O)NC(Cc1c(-n2cnc(CC(NC(=O)CNC(=O)C(CCC[NH+]=C(N)N)NC(=O)OC(C)(C)C)C(=O)[O-])c2)[nH]c2cc(C(C(C)C)C(NC(=O)OCc3ccccc3)C(=O)O)ccc12)C(=O)O',\n",
       "                 'is_chemical': True,\n",
       "                 'in_stock': False,\n",
       "                 'children': [{'type': 'reaction',\n",
       "                   'hide': False,\n",
       "                   'smiles': '[O:1][C:2]([CH3:3])=[O:4]>>C[O:1][C:2]([CH3:3])=[O:4]',\n",
       "                   'is_reaction': True,\n",
       "                   'metadata': {'template_hash': '0a02d2d47df007d05d29f7b852c5bfe9dcbd7a32224d027cc636bd27',\n",
       "                    'classification': 'RCO2H deprotections',\n",
       "                    'library_occurence': 9484,\n",
       "                    'policy_probability': 0.33660000562667847,\n",
       "                    'policy_probability_rank': 0,\n",
       "                    'policy_name': 'uspto',\n",
       "                    'template_code': 1867,\n",
       "                    'template': '([C:3]-[C:2](=[O;D1;H0:4])-[OH;D1;+0:1])>>(C-[O;H0;D2;+0:1]-[C:2](-[C:3])=[O;D1;H0:4])'},\n",
       "                   'children': [{'type': 'mol',\n",
       "                     'hide': False,\n",
       "                     'smiles': 'COC(=O)C(NC(=O)OCc1ccccc1)C(c1ccc2c(CC(NC(=O)C(N)C(C)C)C(=O)O)c(-n3cnc(CC(NC(=O)CNC(=O)C(CCC[NH+]=C(N)N)NC(=O)OC(C)(C)C)C(=O)[O-])c3)[nH]c2c1)C(C)C',\n",
       "                     'is_chemical': True,\n",
       "                     'in_stock': False}]}]}]}]}]}]}]}]}]}]}"
      ]
     },
     "execution_count": 33,
     "metadata": {},
     "output_type": "execute_result"
    }
   ],
   "source": [
    "retroSynRoute2 = get_node_dict(app2, 3)\n",
    "retroSynRoute2"
   ]
  },
  {
   "cell_type": "code",
   "execution_count": 34,
   "id": "70514f91",
   "metadata": {},
   "outputs": [],
   "source": [
    "NIS2 = 'COC(=O)C(NC(=O)OCc1ccccc1)C(c1ccc2c(CC(NC(=O)C(N)C(C)C)C(=O)O)c(-n3cnc(CC(NC(=O)CNC(=O)C(CCC[NH+]=C(N)N)NC(=O)OC(C)(C)C)C(=O)[O-])c3)[nH]c2c1)C(C)C'"
   ]
  },
  {
   "cell_type": "code",
   "execution_count": 35,
   "id": "b24910c6",
   "metadata": {},
   "outputs": [
    {
     "name": "stdout",
     "output_type": "stream",
     "text": [
      "Setting iteration limit to 2000\n",
      "Setting return first to False\n",
      "Setting time limit to 240\n",
      "Setting C to 1.4\n",
      "Setting cutoff cumulative to 0.999\n",
      "Setting cutoff number to 50\n",
      "Setting max transforms to 10\n",
      "Loading template-based expansion policy model from /home/fastflair/repos/aizynthfinder/data/uspto_model.hdf5 to uspto\n",
      "Loading templates from /home/fastflair/repos/aizynthfinder/data/uspto_templates.hdf5 to uspto\n",
      "Loading filter policy model from /home/fastflair/repos/aizynthfinder/data/uspto_filter_model.hdf5 to uspto\n",
      "Loading stock from /home/fastflair/repos/aizynthfinder/data/zinc_stock.hdf5 to zinc\n",
      "Selected as molecule cost: zero\n"
     ]
    },
    {
     "data": {
      "application/vnd.jupyter.widget-view+json": {
       "model_id": "ef851b55c0544818a6a91343fa22d82b",
       "version_major": 2,
       "version_minor": 0
      },
      "text/plain": [
       "Text(value='', continuous_update=False, description='SMILES')"
      ]
     },
     "metadata": {},
     "output_type": "display_data"
    },
    {
     "data": {
      "application/vnd.jupyter.widget-view+json": {
       "model_id": "50f053d35bd746899cd044e4bc9bd718",
       "version_major": 2,
       "version_minor": 0
      },
      "text/plain": [
       "Output(layout=Layout(border='1px solid silver', height='180px', width='50%'))"
      ]
     },
     "metadata": {},
     "output_type": "display_data"
    },
    {
     "data": {
      "application/vnd.jupyter.widget-view+json": {
       "model_id": "38f2fba6320547ee9ab53a9f14f72f3d",
       "version_major": 2,
       "version_minor": 0
      },
      "text/plain": [
       "Tab(children=(HBox(children=(VBox(children=(Label(value='Stocks'), Checkbox(value=True, description='zinc', st…"
      ]
     },
     "metadata": {},
     "output_type": "display_data"
    },
    {
     "data": {
      "application/vnd.jupyter.widget-view+json": {
       "model_id": "a558052db0c04b3cafaf167016425d2e",
       "version_major": 2,
       "version_minor": 0
      },
      "text/plain": [
       "HBox(children=(Button(description='Run Search', style=ButtonStyle()), Button(description='Extend Search', styl…"
      ]
     },
     "metadata": {},
     "output_type": "display_data"
    },
    {
     "data": {
      "application/vnd.jupyter.widget-view+json": {
       "model_id": "2e8505d47a7c4005875aa8eeec2a0a67",
       "version_major": 2,
       "version_minor": 0
      },
      "text/plain": [
       "Output(layout=Layout(border='1px solid silver', height='320px', overflow='auto', width='99%'))"
      ]
     },
     "metadata": {},
     "output_type": "display_data"
    },
    {
     "data": {
      "application/vnd.jupyter.widget-view+json": {
       "model_id": "109df2fb4c3b4e7a97324a77c50383c5",
       "version_major": 2,
       "version_minor": 0
      },
      "text/plain": [
       "HBox(children=(Button(description='Show Reactions', style=ButtonStyle()), Dropdown(description='Routes: ', opt…"
      ]
     },
     "metadata": {},
     "output_type": "display_data"
    },
    {
     "data": {
      "application/vnd.jupyter.widget-view+json": {
       "model_id": "53dde28c6bac4ec59d2c190a077ec9fd",
       "version_major": 2,
       "version_minor": 0
      },
      "text/plain": [
       "Output(layout=Layout(border='1px solid silver', width='99%'))"
      ]
     },
     "metadata": {},
     "output_type": "display_data"
    }
   ],
   "source": [
    "app3 = AiZynthApp(\"./../data/config.yml\")"
   ]
  },
  {
   "cell_type": "code",
   "execution_count": 36,
   "id": "78bc9fd1",
   "metadata": {},
   "outputs": [
    {
     "data": {
      "application/vnd.jupyter.widget-view+json": {
       "model_id": "3ea2558feb4a459fbb7933f1cfb9d585",
       "version_major": 2,
       "version_minor": 0
      },
      "text/plain": [
       "Output(layout=Layout(height='310px', overflow_y='auto', width='99%'))"
      ]
     },
     "metadata": {},
     "output_type": "display_data"
    },
    {
     "data": {
      "application/vnd.jupyter.widget-view+json": {
       "model_id": "9be0f8c18c6441828387a13d415fa605",
       "version_major": 2,
       "version_minor": 0
      },
      "text/plain": [
       "HBox(children=(Label(value='Number of clusters to make'), BoundedIntText(value=1, continuous_update=True, layo…"
      ]
     },
     "metadata": {},
     "output_type": "display_data"
    },
    {
     "data": {
      "application/vnd.jupyter.widget-view+json": {
       "model_id": "f8feebcb1e6442249379aecc58062111",
       "version_major": 2,
       "version_minor": 0
      },
      "text/plain": [
       "Output()"
      ]
     },
     "metadata": {},
     "output_type": "display_data"
    },
    {
     "data": {
      "application/vnd.jupyter.widget-view+json": {
       "model_id": "37501ab8934148648708db05f27e65fd",
       "version_major": 2,
       "version_minor": 0
      },
      "text/plain": [
       "Tab()"
      ]
     },
     "metadata": {},
     "output_type": "display_data"
    },
    {
     "data": {
      "text/plain": [
       "<aizynthfinder.interfaces.gui.clustering.ClusteringGui at 0x7fc41019d610>"
      ]
     },
     "execution_count": 36,
     "metadata": {},
     "output_type": "execute_result"
    }
   ],
   "source": [
    "ClusteringGui.from_app(app3)"
   ]
  },
  {
   "cell_type": "code",
   "execution_count": 37,
   "id": "1c024d35",
   "metadata": {},
   "outputs": [
    {
     "data": {
      "text/plain": [
       "{'type': 'mol',\n",
       " 'hide': False,\n",
       " 'smiles': 'CC(C)CC(NC(=O)C(N)C(c1ccc2c(CC(NC(=O)C(N)C(C)C)C(=O)O)c(-n3cnc(CC(NC(=O)CNC(=O)C(N)CCC[NH+]=C(N)N)C(=O)[O-])c3)[nH]c2c1)C(C)C)C(=O)O',\n",
       " 'is_chemical': True,\n",
       " 'in_stock': False,\n",
       " 'children': [{'type': 'reaction',\n",
       "   'hide': False,\n",
       "   'smiles': '[N:1][CH2:2][C:3](=[O:4])[NH:5][CH2:6][C:7](=[O:8])[O:9]>>O=C(OCc1ccccc1)[N:1][CH2:2][C:3](=[O:4])[NH:5][CH2:6][C:7](=[O:8])[O:9]Cc1ccccc1',\n",
       "   'is_reaction': True,\n",
       "   'metadata': {'template_hash': '9da91190308c5251096452760eba2cb0495da186084f8d7bae10c2f5',\n",
       "    'classification': 'NH deprotections',\n",
       "    'library_occurence': 3,\n",
       "    'policy_probability': 0.0006000000284984708,\n",
       "    'policy_probability_rank': 20,\n",
       "    'policy_name': 'uspto',\n",
       "    'template_code': 28845,\n",
       "    'template': '([NH2;D1;+0:1]-[C:2]-[C:3](=[O;D1;H0:4])-[#7:5]-[C:6]-[C:7](=[O;D1;H0:8])-[OH;D1;+0:9])>>(O=C(-O-C-c1:c:c:c:c:c:1)-[NH;D2;+0:1]-[C:2]-[C:3](=[O;D1;H0:4])-[#7:5]-[C:6]-[C:7](=[O;D1;H0:8])-[O;H0;D2;+0:9]-C-c1:c:c:c:c:c:1)'},\n",
       "   'children': [{'type': 'mol',\n",
       "     'hide': False,\n",
       "     'smiles': 'CC(C)CC(NC(=O)C(NC(=O)OCc1ccccc1)C(c1ccc2c(CC(NC(=O)C(N)C(C)C)C(=O)O)c(-n3cnc(CC(NC(=O)CNC(=O)C(N)CCC[NH+]=C(N)N)C(=O)[O-])c3)[nH]c2c1)C(C)C)C(=O)OCc1ccccc1',\n",
       "     'is_chemical': True,\n",
       "     'in_stock': False,\n",
       "     'children': [{'type': 'reaction',\n",
       "       'hide': False,\n",
       "       'smiles': '[O:1]=[C:2]([CH3:3])[N:5][CH3:4]>>O=C1CCC(=O)N1[O:1][C:2](=O)[CH3:3].[CH3:4][N:5]',\n",
       "       'is_reaction': True,\n",
       "       'metadata': {'template_hash': '48ac9738c4f0de34f09eafad670ba0da011f1a879dd5c28abf9ac53c',\n",
       "        'classification': 'Unassigned',\n",
       "        'library_occurence': 83,\n",
       "        'policy_probability': 0.01119999960064888,\n",
       "        'policy_probability_rank': 8,\n",
       "        'policy_name': 'uspto',\n",
       "        'template_code': 13318,\n",
       "        'template': '([C:4]-[NH;D2;+0:5]-[C;H0;D3;+0:2](-[C:3])=[O;H0;D1;+0:1])>>(O=C1-C-C-C(=O)-N-1-[O;H0;D2;+0:1]-[C;H0;D3;+0:2](=O)-[C:3]).([C:4]-[NH2;D1;+0:5])'},\n",
       "       'children': [{'type': 'mol',\n",
       "         'hide': False,\n",
       "         'smiles': 'CC(C)CC(N)C(=O)OCc1ccccc1',\n",
       "         'is_chemical': True,\n",
       "         'in_stock': False,\n",
       "         'children': [{'type': 'reaction',\n",
       "           'hide': False,\n",
       "           'smiles': '[N:1][CH2:2][C:3](=[O:4])[O:5][CH2:6][cH3:7]>>O=C(OCC1c2ccccc2-c2ccccc21)[N:1][CH2:2][C:3](=[O:4])[O:5][CH2:6][cH3:7]',\n",
       "           'is_reaction': True,\n",
       "           'metadata': {'template_hash': '92b28fd0a991a6dc90fce49d5d712df0ddf479bdd431e0e552dd2c34',\n",
       "            'classification': 'NH deprotections',\n",
       "            'library_occurence': 5,\n",
       "            'policy_probability': 0.38940000534057617,\n",
       "            'policy_probability_rank': 0,\n",
       "            'policy_name': 'uspto',\n",
       "            'template_code': 26809,\n",
       "            'template': '([NH2;D1;+0:1]-[C:2]-[C:3](=[O;D1;H0:4])-[#8:5]-[C:6]-[c:7])>>(O=C(-O-C-C1-c2:c:c:c:c:c:2-c2:c:c:c:c:c:2-1)-[NH;D2;+0:1]-[C:2]-[C:3](=[O;D1;H0:4])-[#8:5]-[C:6]-[c:7])'},\n",
       "           'children': [{'type': 'mol',\n",
       "             'hide': False,\n",
       "             'smiles': 'CC(C)CC(NC(=O)OCC1c2ccccc2-c2ccccc21)C(=O)OCc1ccccc1',\n",
       "             'is_chemical': True,\n",
       "             'in_stock': False,\n",
       "             'children': [{'type': 'reaction',\n",
       "               'hide': False,\n",
       "               'smiles': '[C:1]([cH3:2])[O:5][CH:4]=[O:3]>>Br[C:1][cH3:2].[O:3]=[CH:4][O:5]',\n",
       "               'is_reaction': True,\n",
       "               'metadata': {'template_hash': 'fa607456e98c145bd218d1e360a25adfe3b1a6f9390494af0d74f2bf',\n",
       "                'classification': 'O-substitution',\n",
       "                'library_occurence': 392,\n",
       "                'policy_probability': 0.4481000006198883,\n",
       "                'policy_probability_rank': 0,\n",
       "                'policy_name': 'uspto',\n",
       "                'template_code': 45718,\n",
       "                'template': '([O;D1;H0:3]=[C:4]-[O;H0;D2;+0:5]-[CH2;D2;+0:1]-[c:2])>>(Br-[CH2;D2;+0:1]-[c:2]).([O;D1;H0:3]=[C:4]-[OH;D1;+0:5])'},\n",
       "               'children': [{'type': 'mol',\n",
       "                 'hide': False,\n",
       "                 'smiles': 'BrCc1ccccc1',\n",
       "                 'is_chemical': True,\n",
       "                 'in_stock': True},\n",
       "                {'type': 'mol',\n",
       "                 'hide': False,\n",
       "                 'smiles': 'CC(C)CC(NC(=O)OCC1c2ccccc2-c2ccccc21)C(=O)O',\n",
       "                 'is_chemical': True,\n",
       "                 'in_stock': False,\n",
       "                 'children': [{'type': 'reaction',\n",
       "                   'hide': False,\n",
       "                   'smiles': '[C:1]([OH:2])(=[O:3])[N:4][CH2:5][C:6](=[O:7])[OH:8]>>Cl[C:1]([OH:2])=[O:3].[N:4][CH2:5][C:6](=[O:7])[OH:8]',\n",
       "                   'is_reaction': True,\n",
       "                   'metadata': {'template_hash': '9f356963cf5adc8c441d3c37d73c4a5712c44a66988790a873482ef1',\n",
       "                    'classification': 'N-acylation to amide',\n",
       "                    'library_occurence': 83,\n",
       "                    'policy_probability': 0.6891999840736389,\n",
       "                    'policy_probability_rank': 0,\n",
       "                    'policy_name': 'uspto',\n",
       "                    'template_code': 29123,\n",
       "                    'template': '([#8:2]-[C;H0;D3;+0:1](=[O;D1;H0:3])-[NH;D2;+0:4]-[C:5]-[C:6](=[O;D1;H0:7])-[O;D1;H1:8])>>(Cl-[C;H0;D3;+0:1](-[#8:2])=[O;D1;H0:3]).([NH2;D1;+0:4]-[C:5]-[C:6](=[O;D1;H0:7])-[O;D1;H1:8])'},\n",
       "                   'children': [{'type': 'mol',\n",
       "                     'hide': False,\n",
       "                     'smiles': 'CC(C)CC(N)C(=O)O',\n",
       "                     'is_chemical': True,\n",
       "                     'in_stock': False,\n",
       "                     'children': [{'type': 'reaction',\n",
       "                       'hide': False,\n",
       "                       'smiles': '[N:1][CH2:2][C:3](=[O:4])[OH:5]>>CC(C)(C)OC(=O)[N:1][CH2:2][C:3](=[O:4])[OH:5]',\n",
       "                       'is_reaction': True,\n",
       "                       'metadata': {'template_hash': '8944fd91bb744251888d24c87709532f0fe220e0681ae5a1e36dad63',\n",
       "                        'classification': 'NH deprotections',\n",
       "                        'library_occurence': 51,\n",
       "                        'policy_probability': 0.22130000591278076,\n",
       "                        'policy_probability_rank': 0,\n",
       "                        'policy_name': 'uspto',\n",
       "                        'template_code': 25137,\n",
       "                        'template': '([NH2;D1;+0:1]-[C:2]-[C:3](=[O;D1;H0:4])-[O;D1;H1:5])>>(C-C(-C)(-C)-O-C(=O)-[NH;D2;+0:1]-[C:2]-[C:3](=[O;D1;H0:4])-[O;D1;H1:5])'},\n",
       "                       'children': [{'type': 'mol',\n",
       "                         'hide': False,\n",
       "                         'smiles': 'CC(C)CC(NC(=O)OC(C)(C)C)C(=O)O',\n",
       "                         'is_chemical': True,\n",
       "                         'in_stock': False,\n",
       "                         'children': [{'type': 'reaction',\n",
       "                           'hide': False,\n",
       "                           'smiles': '[O:1][C:2]([CH3:3])=[O:4]>>C[O:1][C:2]([CH3:3])=[O:4]',\n",
       "                           'is_reaction': True,\n",
       "                           'metadata': {'template_hash': '0a02d2d47df007d05d29f7b852c5bfe9dcbd7a32224d027cc636bd27',\n",
       "                            'classification': 'RCO2H deprotections',\n",
       "                            'library_occurence': 9484,\n",
       "                            'policy_probability': 0.18160000443458557,\n",
       "                            'policy_probability_rank': 1,\n",
       "                            'policy_name': 'uspto',\n",
       "                            'template_code': 1867,\n",
       "                            'template': '([C:3]-[C:2](=[O;D1;H0:4])-[OH;D1;+0:1])>>(C-[O;H0;D2;+0:1]-[C:2](-[C:3])=[O;D1;H0:4])'},\n",
       "                           'children': [{'type': 'mol',\n",
       "                             'hide': False,\n",
       "                             'smiles': 'COC(=O)C(CC(C)C)NC(=O)OC(C)(C)C',\n",
       "                             'is_chemical': True,\n",
       "                             'in_stock': False,\n",
       "                             'children': [{'type': 'reaction',\n",
       "                               'hide': False,\n",
       "                               'smiles': '[C:1](=[O:2])([O:3][C:4]([CH3:5])([CH3:6])[CH3:7])[N:13][CH2:12][C:10]([O:9][CH3:8])=[O:11]>>CC(C)(C)OC(=O)O[C:1](=[O:2])[O:3][C:4]([CH3:5])([CH3:6])[CH3:7].[CH3:8][O:9][C:10](=[O:11])[CH2:12][N:13]',\n",
       "                               'is_reaction': True,\n",
       "                               'metadata': {'template_hash': '732aac08e57e1752bf4893b2eb18a8ae059a53512fc2501959fa4b44',\n",
       "                                'classification': 'NH protections',\n",
       "                                'library_occurence': 48,\n",
       "                                'policy_probability': 0.39410001039505005,\n",
       "                                'policy_probability_rank': 0,\n",
       "                                'policy_name': 'uspto',\n",
       "                                'template_code': 21156,\n",
       "                                'template': '([C;D1;H3:5]-[C:4](-[C;D1;H3:6])(-[C;D1;H3:7])-[#8:3]-[C;H0;D3;+0:1](=[O;D1;H0:2])-[NH;D2;+0:13]-[C:12]-[C:10](=[O;D1;H0:11])-[#8:9]-[C;D1;H3:8])>>(C-C(-C)(-C)-O-C(=O)-O-[C;H0;D3;+0:1](=[O;D1;H0:2])-[#8:3]-[C:4](-[C;D1;H3:5])(-[C;D1;H3:6])-[C;D1;H3:7]).([C;D1;H3:8]-[#8:9]-[C:10](=[O;D1;H0:11])-[C:12]-[NH2;D1;+0:13])'},\n",
       "                               'children': [{'type': 'mol',\n",
       "                                 'hide': False,\n",
       "                                 'smiles': 'COC(=O)C(N)CC(C)C',\n",
       "                                 'is_chemical': True,\n",
       "                                 'in_stock': False},\n",
       "                                {'type': 'mol',\n",
       "                                 'hide': False,\n",
       "                                 'smiles': 'CC(C)(C)OC(=O)OC(=O)OC(C)(C)C',\n",
       "                                 'is_chemical': True,\n",
       "                                 'in_stock': True}]}]}]}]}]}]},\n",
       "                    {'type': 'mol',\n",
       "                     'hide': False,\n",
       "                     'smiles': 'O=C(Cl)OCC1c2ccccc2-c2ccccc21',\n",
       "                     'is_chemical': True,\n",
       "                     'in_stock': False,\n",
       "                     'children': [{'type': 'reaction',\n",
       "                       'hide': False,\n",
       "                       'smiles': '[C:1]([Cl:2])(=[O:3])[O:5][CH3:4]>>Cl[C:1]([Cl:2])=[O:3].[CH3:4][O:5]',\n",
       "                       'is_reaction': True,\n",
       "                       'metadata': {'template_hash': '79183227f807eefb6d843adf5c04e578d5bc4e3e6a0fd35173eca39e',\n",
       "                        'classification': 'O-acylation to ester',\n",
       "                        'library_occurence': 57,\n",
       "                        'policy_probability': 0.7566999793052673,\n",
       "                        'policy_probability_rank': 0,\n",
       "                        'policy_name': 'uspto',\n",
       "                        'template_code': 22206,\n",
       "                        'template': '([C:4]-[O;H0;D2;+0:5]-[C;H0;D3;+0:1](-[Cl;D1;H0:2])=[O;D1;H0:3])>>(Cl-[C;H0;D3;+0:1](-[Cl;D1;H0:2])=[O;D1;H0:3]).([C:4]-[OH;D1;+0:5])'},\n",
       "                       'children': [{'type': 'mol',\n",
       "                         'hide': False,\n",
       "                         'smiles': 'O=C(Cl)Cl',\n",
       "                         'is_chemical': True,\n",
       "                         'in_stock': True},\n",
       "                        {'type': 'mol',\n",
       "                         'hide': False,\n",
       "                         'smiles': 'OCC1c2ccccc2-c2ccccc21',\n",
       "                         'is_chemical': True,\n",
       "                         'in_stock': True}]}]}]}]}]}]}]}]},\n",
       "        {'type': 'mol',\n",
       "         'hide': False,\n",
       "         'smiles': 'CC(C)C(N)C(=O)NC(Cc1c(-n2cnc(CC(NC(=O)CNC(=O)C(N)CCC[NH+]=C(N)N)C(=O)[O-])c2)[nH]c2cc(C(C(C)C)C(NC(=O)OCc3ccccc3)C(=O)ON3C(=O)CCC3=O)ccc12)C(=O)O',\n",
       "         'is_chemical': True,\n",
       "         'in_stock': False,\n",
       "         'children': [{'type': 'reaction',\n",
       "           'hide': False,\n",
       "           'smiles': '[N:1][CH2:2][C:3]([NH2:4])=[O:5]>>CC(C)(C)OC(=O)[N:1][CH2:2][C:3]([NH2:4])=[O:5]',\n",
       "           'is_reaction': True,\n",
       "           'metadata': {'template_hash': '140717369b6c661d32f428907ffcecf2a0f3702c28cc263bfa3ac1c3',\n",
       "            'classification': 'NH deprotections',\n",
       "            'library_occurence': 1106,\n",
       "            'policy_probability': 0.2913999855518341,\n",
       "            'policy_probability_rank': 0,\n",
       "            'policy_name': 'uspto',\n",
       "            'template_code': 3665,\n",
       "            'template': '([#7:4]-[C:3](=[O;D1;H0:5])-[C:2]-[NH2;D1;+0:1])>>(C-C(-C)(-C)-O-C(=O)-[NH;D2;+0:1]-[C:2]-[C:3](-[#7:4])=[O;D1;H0:5])'},\n",
       "           'children': [{'type': 'mol',\n",
       "             'hide': False,\n",
       "             'smiles': 'CC(C)C(N)C(=O)NC(Cc1c(-n2cnc(CC(NC(=O)CNC(=O)C(CCC[NH+]=C(N)N)NC(=O)OC(C)(C)C)C(=O)[O-])c2)[nH]c2cc(C(C(C)C)C(NC(=O)OCc3ccccc3)C(=O)ON3C(=O)CCC3=O)ccc12)C(=O)O',\n",
       "             'is_chemical': True,\n",
       "             'in_stock': False,\n",
       "             'children': [{'type': 'reaction',\n",
       "               'hide': False,\n",
       "               'smiles': '[N:1]1([O:10][CH:9]=[O:8])[C:2](=[O:3])[CH2:4][CH2:5][C:6]1=[O:7]>>CN(C)C(O[N:1]1[C:2](=[O:3])[CH2:4][CH2:5][C:6]1=[O:7])=[N+](C)C.[O:8]=[CH:9][O:10]',\n",
       "               'is_reaction': True,\n",
       "               'metadata': {'template_hash': '6246d6214dc6af114b4712520f33447f0ca7283327194bcf1bc9e943',\n",
       "                'classification': 'Unassigned',\n",
       "                'library_occurence': 25,\n",
       "                'policy_probability': 0.6328999996185303,\n",
       "                'policy_probability_rank': 0,\n",
       "                'policy_name': 'uspto',\n",
       "                'template_code': 18104,\n",
       "                'template': '([O;D1;H0:8]=[C:9]-[O;H0;D2;+0:10]-[N;H0;D3;+0:1]1-[C:2](=[O;D1;H0:3])-[C:4]-[C:5]-[C:6]-1=[O;D1;H0:7])>>(C-N(-C)-C(-O-[N;H0;D3;+0:1]1-[C:2](=[O;D1;H0:3])-[C:4]-[C:5]-[C:6]-1=[O;D1;H0:7])=[N+](-C)-C).([O;D1;H0:8]=[C:9]-[OH;D1;+0:10])'},\n",
       "               'children': [{'type': 'mol',\n",
       "                 'hide': False,\n",
       "                 'smiles': 'CN(C)C(ON1C(=O)CCC1=O)=[N+](C)C',\n",
       "                 'is_chemical': True,\n",
       "                 'in_stock': True},\n",
       "                {'type': 'mol',\n",
       "                 'hide': False,\n",
       "                 'smiles': 'CC(C)C(N)C(=O)NC(Cc1c(-n2cnc(CC(NC(=O)CNC(=O)C(CCC[NH+]=C(N)N)NC(=O)OC(C)(C)C)C(=O)[O-])c2)[nH]c2cc(C(C(C)C)C(NC(=O)OCc3ccccc3)C(=O)O)ccc12)C(=O)O',\n",
       "                 'is_chemical': True,\n",
       "                 'in_stock': False,\n",
       "                 'children': [{'type': 'reaction',\n",
       "                   'hide': False,\n",
       "                   'smiles': '[O:1][C:2]([CH3:3])=[O:4]>>C[O:1][C:2]([CH3:3])=[O:4]',\n",
       "                   'is_reaction': True,\n",
       "                   'metadata': {'template_hash': '0a02d2d47df007d05d29f7b852c5bfe9dcbd7a32224d027cc636bd27',\n",
       "                    'classification': 'RCO2H deprotections',\n",
       "                    'library_occurence': 9484,\n",
       "                    'policy_probability': 0.33660000562667847,\n",
       "                    'policy_probability_rank': 0,\n",
       "                    'policy_name': 'uspto',\n",
       "                    'template_code': 1867,\n",
       "                    'template': '([C:3]-[C:2](=[O;D1;H0:4])-[OH;D1;+0:1])>>(C-[O;H0;D2;+0:1]-[C:2](-[C:3])=[O;D1;H0:4])'},\n",
       "                   'children': [{'type': 'mol',\n",
       "                     'hide': False,\n",
       "                     'smiles': 'COC(=O)C(NC(=O)OCc1ccccc1)C(c1ccc2c(CC(NC(=O)C(N)C(C)C)C(=O)O)c(-n3cnc(CC(NC(=O)CNC(=O)C(CCC[NH+]=C(N)N)NC(=O)OC(C)(C)C)C(=O)[O-])c3)[nH]c2c1)C(C)C',\n",
       "                     'is_chemical': True,\n",
       "                     'in_stock': False}]}]}]}]}]}]}]}]}]}]}"
      ]
     },
     "execution_count": 37,
     "metadata": {},
     "output_type": "execute_result"
    }
   ],
   "source": [
    "retroSynRoute3 = get_node_dict(app2, 3)\n",
    "retroSynRoute3"
   ]
  },
  {
   "cell_type": "code",
   "execution_count": null,
   "id": "52664cbf",
   "metadata": {},
   "outputs": [],
   "source": []
  }
 ],
 "metadata": {
  "kernelspec": {
   "display_name": "Python 3 (ipykernel)",
   "language": "python",
   "name": "python3"
  },
  "language_info": {
   "codemirror_mode": {
    "name": "ipython",
    "version": 3
   },
   "file_extension": ".py",
   "mimetype": "text/x-python",
   "name": "python",
   "nbconvert_exporter": "python",
   "pygments_lexer": "ipython3",
   "version": "3.9.11"
  }
 },
 "nbformat": 4,
 "nbformat_minor": 5
}
